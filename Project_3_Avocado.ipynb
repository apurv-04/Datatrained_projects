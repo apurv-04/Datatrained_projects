{
 "cells": [
  {
   "cell_type": "code",
   "execution_count": 306,
   "metadata": {},
   "outputs": [],
   "source": [
    "import pandas as pd\n",
    "import numpy as np\n",
    "import seaborn as sns\n",
    "import matplotlib.pyplot as plt\n",
    "from scipy.stats import zscore\n"
   ]
  },
  {
   "cell_type": "code",
   "execution_count": 307,
   "metadata": {},
   "outputs": [],
   "source": [
    "df1= pd.read_csv(\"Avocado.csv\")"
   ]
  },
  {
   "cell_type": "code",
   "execution_count": 308,
   "metadata": {},
   "outputs": [
    {
     "data": {
      "text/plain": [
       "(18249, 13)"
      ]
     },
     "execution_count": 308,
     "metadata": {},
     "output_type": "execute_result"
    }
   ],
   "source": [
    "df1.shape"
   ]
  },
  {
   "cell_type": "code",
   "execution_count": 309,
   "metadata": {},
   "outputs": [
    {
     "data": {
      "text/html": [
       "<div>\n",
       "<style scoped>\n",
       "    .dataframe tbody tr th:only-of-type {\n",
       "        vertical-align: middle;\n",
       "    }\n",
       "\n",
       "    .dataframe tbody tr th {\n",
       "        vertical-align: top;\n",
       "    }\n",
       "\n",
       "    .dataframe thead th {\n",
       "        text-align: right;\n",
       "    }\n",
       "</style>\n",
       "<table border=\"1\" class=\"dataframe\">\n",
       "  <thead>\n",
       "    <tr style=\"text-align: right;\">\n",
       "      <th></th>\n",
       "      <th>Date</th>\n",
       "      <th>AveragePrice</th>\n",
       "      <th>Total Volume</th>\n",
       "      <th>4046</th>\n",
       "      <th>4225</th>\n",
       "      <th>4770</th>\n",
       "      <th>Total Bags</th>\n",
       "      <th>Small Bags</th>\n",
       "      <th>Large Bags</th>\n",
       "      <th>XLarge Bags</th>\n",
       "      <th>type</th>\n",
       "      <th>year</th>\n",
       "      <th>region</th>\n",
       "    </tr>\n",
       "  </thead>\n",
       "  <tbody>\n",
       "    <tr>\n",
       "      <th>0</th>\n",
       "      <td>27-12-2015</td>\n",
       "      <td>1.33</td>\n",
       "      <td>64236.62</td>\n",
       "      <td>1036.74</td>\n",
       "      <td>54454.85</td>\n",
       "      <td>48.16</td>\n",
       "      <td>8696.87</td>\n",
       "      <td>8603.62</td>\n",
       "      <td>93.25</td>\n",
       "      <td>0.0</td>\n",
       "      <td>conventional</td>\n",
       "      <td>2015</td>\n",
       "      <td>Albany</td>\n",
       "    </tr>\n",
       "    <tr>\n",
       "      <th>1</th>\n",
       "      <td>20-12-2015</td>\n",
       "      <td>1.35</td>\n",
       "      <td>54876.98</td>\n",
       "      <td>674.28</td>\n",
       "      <td>44638.81</td>\n",
       "      <td>58.33</td>\n",
       "      <td>9505.56</td>\n",
       "      <td>9408.07</td>\n",
       "      <td>97.49</td>\n",
       "      <td>0.0</td>\n",
       "      <td>conventional</td>\n",
       "      <td>2015</td>\n",
       "      <td>Albany</td>\n",
       "    </tr>\n",
       "    <tr>\n",
       "      <th>2</th>\n",
       "      <td>13-12-2015</td>\n",
       "      <td>0.93</td>\n",
       "      <td>118220.22</td>\n",
       "      <td>794.70</td>\n",
       "      <td>109149.67</td>\n",
       "      <td>130.50</td>\n",
       "      <td>8145.35</td>\n",
       "      <td>8042.21</td>\n",
       "      <td>103.14</td>\n",
       "      <td>0.0</td>\n",
       "      <td>conventional</td>\n",
       "      <td>2015</td>\n",
       "      <td>Albany</td>\n",
       "    </tr>\n",
       "    <tr>\n",
       "      <th>3</th>\n",
       "      <td>06-12-2015</td>\n",
       "      <td>1.08</td>\n",
       "      <td>78992.15</td>\n",
       "      <td>1132.00</td>\n",
       "      <td>71976.41</td>\n",
       "      <td>72.58</td>\n",
       "      <td>5811.16</td>\n",
       "      <td>5677.40</td>\n",
       "      <td>133.76</td>\n",
       "      <td>0.0</td>\n",
       "      <td>conventional</td>\n",
       "      <td>2015</td>\n",
       "      <td>Albany</td>\n",
       "    </tr>\n",
       "    <tr>\n",
       "      <th>4</th>\n",
       "      <td>29-11-2015</td>\n",
       "      <td>1.28</td>\n",
       "      <td>51039.60</td>\n",
       "      <td>941.48</td>\n",
       "      <td>43838.39</td>\n",
       "      <td>75.78</td>\n",
       "      <td>6183.95</td>\n",
       "      <td>5986.26</td>\n",
       "      <td>197.69</td>\n",
       "      <td>0.0</td>\n",
       "      <td>conventional</td>\n",
       "      <td>2015</td>\n",
       "      <td>Albany</td>\n",
       "    </tr>\n",
       "  </tbody>\n",
       "</table>\n",
       "</div>"
      ],
      "text/plain": [
       "         Date  AveragePrice  Total Volume     4046       4225    4770  \\\n",
       "0  27-12-2015          1.33      64236.62  1036.74   54454.85   48.16   \n",
       "1  20-12-2015          1.35      54876.98   674.28   44638.81   58.33   \n",
       "2  13-12-2015          0.93     118220.22   794.70  109149.67  130.50   \n",
       "3  06-12-2015          1.08      78992.15  1132.00   71976.41   72.58   \n",
       "4  29-11-2015          1.28      51039.60   941.48   43838.39   75.78   \n",
       "\n",
       "   Total Bags  Small Bags  Large Bags  XLarge Bags          type  year  region  \n",
       "0     8696.87     8603.62       93.25          0.0  conventional  2015  Albany  \n",
       "1     9505.56     9408.07       97.49          0.0  conventional  2015  Albany  \n",
       "2     8145.35     8042.21      103.14          0.0  conventional  2015  Albany  \n",
       "3     5811.16     5677.40      133.76          0.0  conventional  2015  Albany  \n",
       "4     6183.95     5986.26      197.69          0.0  conventional  2015  Albany  "
      ]
     },
     "execution_count": 309,
     "metadata": {},
     "output_type": "execute_result"
    }
   ],
   "source": [
    "df1.head()"
   ]
  },
  {
   "cell_type": "code",
   "execution_count": 310,
   "metadata": {},
   "outputs": [
    {
     "data": {
      "text/html": [
       "<div>\n",
       "<style scoped>\n",
       "    .dataframe tbody tr th:only-of-type {\n",
       "        vertical-align: middle;\n",
       "    }\n",
       "\n",
       "    .dataframe tbody tr th {\n",
       "        vertical-align: top;\n",
       "    }\n",
       "\n",
       "    .dataframe thead th {\n",
       "        text-align: right;\n",
       "    }\n",
       "</style>\n",
       "<table border=\"1\" class=\"dataframe\">\n",
       "  <thead>\n",
       "    <tr style=\"text-align: right;\">\n",
       "      <th></th>\n",
       "      <th>Date</th>\n",
       "      <th>AveragePrice</th>\n",
       "      <th>Total Volume</th>\n",
       "      <th>4046</th>\n",
       "      <th>4225</th>\n",
       "      <th>4770</th>\n",
       "      <th>Total Bags</th>\n",
       "      <th>Small Bags</th>\n",
       "      <th>Large Bags</th>\n",
       "      <th>XLarge Bags</th>\n",
       "      <th>type</th>\n",
       "      <th>year</th>\n",
       "      <th>region</th>\n",
       "    </tr>\n",
       "  </thead>\n",
       "  <tbody>\n",
       "    <tr>\n",
       "      <th>18244</th>\n",
       "      <td>04-02-2018</td>\n",
       "      <td>1.63</td>\n",
       "      <td>17074.83</td>\n",
       "      <td>2046.96</td>\n",
       "      <td>1529.20</td>\n",
       "      <td>0.00</td>\n",
       "      <td>13498.67</td>\n",
       "      <td>13066.82</td>\n",
       "      <td>431.85</td>\n",
       "      <td>0.0</td>\n",
       "      <td>organic</td>\n",
       "      <td>2018</td>\n",
       "      <td>WestTexNewMexico</td>\n",
       "    </tr>\n",
       "    <tr>\n",
       "      <th>18245</th>\n",
       "      <td>28-01-2018</td>\n",
       "      <td>1.71</td>\n",
       "      <td>13888.04</td>\n",
       "      <td>1191.70</td>\n",
       "      <td>3431.50</td>\n",
       "      <td>0.00</td>\n",
       "      <td>9264.84</td>\n",
       "      <td>8940.04</td>\n",
       "      <td>324.80</td>\n",
       "      <td>0.0</td>\n",
       "      <td>organic</td>\n",
       "      <td>2018</td>\n",
       "      <td>WestTexNewMexico</td>\n",
       "    </tr>\n",
       "    <tr>\n",
       "      <th>18246</th>\n",
       "      <td>21-01-2018</td>\n",
       "      <td>1.87</td>\n",
       "      <td>13766.76</td>\n",
       "      <td>1191.92</td>\n",
       "      <td>2452.79</td>\n",
       "      <td>727.94</td>\n",
       "      <td>9394.11</td>\n",
       "      <td>9351.80</td>\n",
       "      <td>42.31</td>\n",
       "      <td>0.0</td>\n",
       "      <td>organic</td>\n",
       "      <td>2018</td>\n",
       "      <td>WestTexNewMexico</td>\n",
       "    </tr>\n",
       "    <tr>\n",
       "      <th>18247</th>\n",
       "      <td>14-01-2018</td>\n",
       "      <td>1.93</td>\n",
       "      <td>16205.22</td>\n",
       "      <td>1527.63</td>\n",
       "      <td>2981.04</td>\n",
       "      <td>727.01</td>\n",
       "      <td>10969.54</td>\n",
       "      <td>10919.54</td>\n",
       "      <td>50.00</td>\n",
       "      <td>0.0</td>\n",
       "      <td>organic</td>\n",
       "      <td>2018</td>\n",
       "      <td>WestTexNewMexico</td>\n",
       "    </tr>\n",
       "    <tr>\n",
       "      <th>18248</th>\n",
       "      <td>07-01-2018</td>\n",
       "      <td>1.62</td>\n",
       "      <td>17489.58</td>\n",
       "      <td>2894.77</td>\n",
       "      <td>2356.13</td>\n",
       "      <td>224.53</td>\n",
       "      <td>12014.15</td>\n",
       "      <td>11988.14</td>\n",
       "      <td>26.01</td>\n",
       "      <td>0.0</td>\n",
       "      <td>organic</td>\n",
       "      <td>2018</td>\n",
       "      <td>WestTexNewMexico</td>\n",
       "    </tr>\n",
       "  </tbody>\n",
       "</table>\n",
       "</div>"
      ],
      "text/plain": [
       "             Date  AveragePrice  Total Volume     4046     4225    4770  \\\n",
       "18244  04-02-2018          1.63      17074.83  2046.96  1529.20    0.00   \n",
       "18245  28-01-2018          1.71      13888.04  1191.70  3431.50    0.00   \n",
       "18246  21-01-2018          1.87      13766.76  1191.92  2452.79  727.94   \n",
       "18247  14-01-2018          1.93      16205.22  1527.63  2981.04  727.01   \n",
       "18248  07-01-2018          1.62      17489.58  2894.77  2356.13  224.53   \n",
       "\n",
       "       Total Bags  Small Bags  Large Bags  XLarge Bags     type  year  \\\n",
       "18244    13498.67    13066.82      431.85          0.0  organic  2018   \n",
       "18245     9264.84     8940.04      324.80          0.0  organic  2018   \n",
       "18246     9394.11     9351.80       42.31          0.0  organic  2018   \n",
       "18247    10969.54    10919.54       50.00          0.0  organic  2018   \n",
       "18248    12014.15    11988.14       26.01          0.0  organic  2018   \n",
       "\n",
       "                 region  \n",
       "18244  WestTexNewMexico  \n",
       "18245  WestTexNewMexico  \n",
       "18246  WestTexNewMexico  \n",
       "18247  WestTexNewMexico  \n",
       "18248  WestTexNewMexico  "
      ]
     },
     "execution_count": 310,
     "metadata": {},
     "output_type": "execute_result"
    }
   ],
   "source": [
    "df1.tail()"
   ]
  },
  {
   "cell_type": "code",
   "execution_count": 311,
   "metadata": {},
   "outputs": [
    {
     "data": {
      "text/plain": [
       "Date            0\n",
       "AveragePrice    0\n",
       "Total Volume    0\n",
       "4046            0\n",
       "4225            0\n",
       "4770            0\n",
       "Total Bags      0\n",
       "Small Bags      0\n",
       "Large Bags      0\n",
       "XLarge Bags     0\n",
       "type            0\n",
       "year            0\n",
       "region          0\n",
       "dtype: int64"
      ]
     },
     "execution_count": 311,
     "metadata": {},
     "output_type": "execute_result"
    }
   ],
   "source": [
    "df1.isna().sum()"
   ]
  },
  {
   "cell_type": "code",
   "execution_count": 312,
   "metadata": {},
   "outputs": [
    {
     "data": {
      "text/plain": [
       "Index(['Date', 'AveragePrice', 'Total Volume', '4046', '4225', '4770',\n",
       "       'Total Bags', 'Small Bags', 'Large Bags', 'XLarge Bags', 'type', 'year',\n",
       "       'region'],\n",
       "      dtype='object')"
      ]
     },
     "execution_count": 312,
     "metadata": {},
     "output_type": "execute_result"
    }
   ],
   "source": [
    "df1.columns"
   ]
  },
  {
   "cell_type": "code",
   "execution_count": 313,
   "metadata": {},
   "outputs": [
    {
     "data": {
      "text/plain": [
       "Date             object\n",
       "AveragePrice    float64\n",
       "Total Volume    float64\n",
       "4046            float64\n",
       "4225            float64\n",
       "4770            float64\n",
       "Total Bags      float64\n",
       "Small Bags      float64\n",
       "Large Bags      float64\n",
       "XLarge Bags     float64\n",
       "type             object\n",
       "year              int64\n",
       "region           object\n",
       "dtype: object"
      ]
     },
     "execution_count": 313,
     "metadata": {},
     "output_type": "execute_result"
    }
   ],
   "source": [
    "df1.dtypes"
   ]
  },
  {
   "cell_type": "code",
   "execution_count": 314,
   "metadata": {},
   "outputs": [
    {
     "data": {
      "text/html": [
       "<div>\n",
       "<style scoped>\n",
       "    .dataframe tbody tr th:only-of-type {\n",
       "        vertical-align: middle;\n",
       "    }\n",
       "\n",
       "    .dataframe tbody tr th {\n",
       "        vertical-align: top;\n",
       "    }\n",
       "\n",
       "    .dataframe thead th {\n",
       "        text-align: right;\n",
       "    }\n",
       "</style>\n",
       "<table border=\"1\" class=\"dataframe\">\n",
       "  <thead>\n",
       "    <tr style=\"text-align: right;\">\n",
       "      <th></th>\n",
       "      <th>Date</th>\n",
       "      <th>type</th>\n",
       "      <th>region</th>\n",
       "    </tr>\n",
       "  </thead>\n",
       "  <tbody>\n",
       "    <tr>\n",
       "      <th>count</th>\n",
       "      <td>18249</td>\n",
       "      <td>18249</td>\n",
       "      <td>18249</td>\n",
       "    </tr>\n",
       "    <tr>\n",
       "      <th>unique</th>\n",
       "      <td>169</td>\n",
       "      <td>2</td>\n",
       "      <td>54</td>\n",
       "    </tr>\n",
       "    <tr>\n",
       "      <th>top</th>\n",
       "      <td>20-08-2017</td>\n",
       "      <td>conventional</td>\n",
       "      <td>Roanoke</td>\n",
       "    </tr>\n",
       "    <tr>\n",
       "      <th>freq</th>\n",
       "      <td>108</td>\n",
       "      <td>9126</td>\n",
       "      <td>338</td>\n",
       "    </tr>\n",
       "  </tbody>\n",
       "</table>\n",
       "</div>"
      ],
      "text/plain": [
       "              Date          type   region\n",
       "count        18249         18249    18249\n",
       "unique         169             2       54\n",
       "top     20-08-2017  conventional  Roanoke\n",
       "freq           108          9126      338"
      ]
     },
     "execution_count": 314,
     "metadata": {},
     "output_type": "execute_result"
    }
   ],
   "source": [
    "df1.describe(include=[object])"
   ]
  },
  {
   "cell_type": "code",
   "execution_count": 315,
   "metadata": {},
   "outputs": [
    {
     "data": {
      "text/html": [
       "<div>\n",
       "<style scoped>\n",
       "    .dataframe tbody tr th:only-of-type {\n",
       "        vertical-align: middle;\n",
       "    }\n",
       "\n",
       "    .dataframe tbody tr th {\n",
       "        vertical-align: top;\n",
       "    }\n",
       "\n",
       "    .dataframe thead th {\n",
       "        text-align: right;\n",
       "    }\n",
       "</style>\n",
       "<table border=\"1\" class=\"dataframe\">\n",
       "  <thead>\n",
       "    <tr style=\"text-align: right;\">\n",
       "      <th></th>\n",
       "      <th>AveragePrice</th>\n",
       "      <th>Total Volume</th>\n",
       "      <th>4046</th>\n",
       "      <th>4225</th>\n",
       "      <th>4770</th>\n",
       "      <th>Total Bags</th>\n",
       "      <th>Small Bags</th>\n",
       "      <th>Large Bags</th>\n",
       "      <th>XLarge Bags</th>\n",
       "      <th>year</th>\n",
       "    </tr>\n",
       "  </thead>\n",
       "  <tbody>\n",
       "    <tr>\n",
       "      <th>count</th>\n",
       "      <td>18249.000000</td>\n",
       "      <td>1.824900e+04</td>\n",
       "      <td>1.824900e+04</td>\n",
       "      <td>1.824900e+04</td>\n",
       "      <td>1.824900e+04</td>\n",
       "      <td>1.824900e+04</td>\n",
       "      <td>1.824900e+04</td>\n",
       "      <td>1.824900e+04</td>\n",
       "      <td>18249.000000</td>\n",
       "      <td>18249.000000</td>\n",
       "    </tr>\n",
       "    <tr>\n",
       "      <th>mean</th>\n",
       "      <td>1.405978</td>\n",
       "      <td>8.506440e+05</td>\n",
       "      <td>2.930084e+05</td>\n",
       "      <td>2.951546e+05</td>\n",
       "      <td>2.283974e+04</td>\n",
       "      <td>2.396392e+05</td>\n",
       "      <td>1.821947e+05</td>\n",
       "      <td>5.433809e+04</td>\n",
       "      <td>3106.426507</td>\n",
       "      <td>2016.147899</td>\n",
       "    </tr>\n",
       "    <tr>\n",
       "      <th>std</th>\n",
       "      <td>0.402677</td>\n",
       "      <td>3.453545e+06</td>\n",
       "      <td>1.264989e+06</td>\n",
       "      <td>1.204120e+06</td>\n",
       "      <td>1.074641e+05</td>\n",
       "      <td>9.862424e+05</td>\n",
       "      <td>7.461785e+05</td>\n",
       "      <td>2.439660e+05</td>\n",
       "      <td>17692.894652</td>\n",
       "      <td>0.939938</td>\n",
       "    </tr>\n",
       "    <tr>\n",
       "      <th>min</th>\n",
       "      <td>0.440000</td>\n",
       "      <td>8.456000e+01</td>\n",
       "      <td>0.000000e+00</td>\n",
       "      <td>0.000000e+00</td>\n",
       "      <td>0.000000e+00</td>\n",
       "      <td>0.000000e+00</td>\n",
       "      <td>0.000000e+00</td>\n",
       "      <td>0.000000e+00</td>\n",
       "      <td>0.000000</td>\n",
       "      <td>2015.000000</td>\n",
       "    </tr>\n",
       "    <tr>\n",
       "      <th>25%</th>\n",
       "      <td>1.100000</td>\n",
       "      <td>1.083858e+04</td>\n",
       "      <td>8.540700e+02</td>\n",
       "      <td>3.008780e+03</td>\n",
       "      <td>0.000000e+00</td>\n",
       "      <td>5.088640e+03</td>\n",
       "      <td>2.849420e+03</td>\n",
       "      <td>1.274700e+02</td>\n",
       "      <td>0.000000</td>\n",
       "      <td>2015.000000</td>\n",
       "    </tr>\n",
       "    <tr>\n",
       "      <th>50%</th>\n",
       "      <td>1.370000</td>\n",
       "      <td>1.073768e+05</td>\n",
       "      <td>8.645300e+03</td>\n",
       "      <td>2.906102e+04</td>\n",
       "      <td>1.849900e+02</td>\n",
       "      <td>3.974383e+04</td>\n",
       "      <td>2.636282e+04</td>\n",
       "      <td>2.647710e+03</td>\n",
       "      <td>0.000000</td>\n",
       "      <td>2016.000000</td>\n",
       "    </tr>\n",
       "    <tr>\n",
       "      <th>75%</th>\n",
       "      <td>1.660000</td>\n",
       "      <td>4.329623e+05</td>\n",
       "      <td>1.110202e+05</td>\n",
       "      <td>1.502069e+05</td>\n",
       "      <td>6.243420e+03</td>\n",
       "      <td>1.107834e+05</td>\n",
       "      <td>8.333767e+04</td>\n",
       "      <td>2.202925e+04</td>\n",
       "      <td>132.500000</td>\n",
       "      <td>2017.000000</td>\n",
       "    </tr>\n",
       "    <tr>\n",
       "      <th>max</th>\n",
       "      <td>3.250000</td>\n",
       "      <td>6.250565e+07</td>\n",
       "      <td>2.274362e+07</td>\n",
       "      <td>2.047057e+07</td>\n",
       "      <td>2.546439e+06</td>\n",
       "      <td>1.937313e+07</td>\n",
       "      <td>1.338459e+07</td>\n",
       "      <td>5.719097e+06</td>\n",
       "      <td>551693.650000</td>\n",
       "      <td>2018.000000</td>\n",
       "    </tr>\n",
       "  </tbody>\n",
       "</table>\n",
       "</div>"
      ],
      "text/plain": [
       "       AveragePrice  Total Volume          4046          4225          4770  \\\n",
       "count  18249.000000  1.824900e+04  1.824900e+04  1.824900e+04  1.824900e+04   \n",
       "mean       1.405978  8.506440e+05  2.930084e+05  2.951546e+05  2.283974e+04   \n",
       "std        0.402677  3.453545e+06  1.264989e+06  1.204120e+06  1.074641e+05   \n",
       "min        0.440000  8.456000e+01  0.000000e+00  0.000000e+00  0.000000e+00   \n",
       "25%        1.100000  1.083858e+04  8.540700e+02  3.008780e+03  0.000000e+00   \n",
       "50%        1.370000  1.073768e+05  8.645300e+03  2.906102e+04  1.849900e+02   \n",
       "75%        1.660000  4.329623e+05  1.110202e+05  1.502069e+05  6.243420e+03   \n",
       "max        3.250000  6.250565e+07  2.274362e+07  2.047057e+07  2.546439e+06   \n",
       "\n",
       "         Total Bags    Small Bags    Large Bags    XLarge Bags          year  \n",
       "count  1.824900e+04  1.824900e+04  1.824900e+04   18249.000000  18249.000000  \n",
       "mean   2.396392e+05  1.821947e+05  5.433809e+04    3106.426507   2016.147899  \n",
       "std    9.862424e+05  7.461785e+05  2.439660e+05   17692.894652      0.939938  \n",
       "min    0.000000e+00  0.000000e+00  0.000000e+00       0.000000   2015.000000  \n",
       "25%    5.088640e+03  2.849420e+03  1.274700e+02       0.000000   2015.000000  \n",
       "50%    3.974383e+04  2.636282e+04  2.647710e+03       0.000000   2016.000000  \n",
       "75%    1.107834e+05  8.333767e+04  2.202925e+04     132.500000   2017.000000  \n",
       "max    1.937313e+07  1.338459e+07  5.719097e+06  551693.650000   2018.000000  "
      ]
     },
     "execution_count": 315,
     "metadata": {},
     "output_type": "execute_result"
    }
   ],
   "source": [
    "df1.describe()"
   ]
  },
  {
   "cell_type": "code",
   "execution_count": 316,
   "metadata": {},
   "outputs": [
    {
     "name": "stdout",
     "output_type": "stream",
     "text": [
      "region\n",
      "Albany                 338\n",
      "Atlanta                338\n",
      "BaltimoreWashington    338\n",
      "Boise                  338\n",
      "Boston                 338\n",
      "BuffaloRochester       338\n",
      "California             338\n",
      "Charlotte              338\n",
      "Chicago                338\n",
      "CincinnatiDayton       338\n",
      "Columbus               338\n",
      "DallasFtWorth          338\n",
      "Denver                 338\n",
      "Detroit                338\n",
      "GrandRapids            338\n",
      "GreatLakes             338\n",
      "HarrisburgScranton     338\n",
      "HartfordSpringfield    338\n",
      "Houston                338\n",
      "Indianapolis           338\n",
      "Jacksonville           338\n",
      "LasVegas               338\n",
      "LosAngeles             338\n",
      "Louisville             338\n",
      "MiamiFtLauderdale      338\n",
      "Midsouth               338\n",
      "Nashville              338\n",
      "NewOrleansMobile       338\n",
      "NewYork                338\n",
      "Northeast              338\n",
      "NorthernNewEngland     338\n",
      "Orlando                338\n",
      "Philadelphia           338\n",
      "PhoenixTucson          338\n",
      "Pittsburgh             338\n",
      "Plains                 338\n",
      "Portland               338\n",
      "RaleighGreensboro      338\n",
      "RichmondNorfolk        338\n",
      "Roanoke                338\n",
      "Sacramento             338\n",
      "SanDiego               338\n",
      "SanFrancisco           338\n",
      "Seattle                338\n",
      "SouthCarolina          338\n",
      "SouthCentral           338\n",
      "Southeast              338\n",
      "Spokane                338\n",
      "StLouis                338\n",
      "Syracuse               338\n",
      "Tampa                  338\n",
      "TotalUS                338\n",
      "West                   338\n",
      "WestTexNewMexico       335\n",
      "dtype: int64\n"
     ]
    }
   ],
   "source": [
    "print(df1.groupby(\"region\").size()) # here we saw that each region has same no. of datset"
   ]
  },
  {
   "cell_type": "code",
   "execution_count": 317,
   "metadata": {},
   "outputs": [
    {
     "name": "stdout",
     "output_type": "stream",
     "text": [
      "type\n",
      "conventional    9126\n",
      "organic         9123\n",
      "dtype: int64\n"
     ]
    }
   ],
   "source": [
    "print(df1.groupby(\"type\").size()) # Type is also evenly distributed"
   ]
  },
  {
   "cell_type": "code",
   "execution_count": 318,
   "metadata": {},
   "outputs": [
    {
     "data": {
      "image/png": "[encoded data removed]",
      "text/plain": [
       "<Figure size 1080x576 with 9 Axes>"
      ]
     },
     "metadata": {
      "needs_background": "light"
     },
     "output_type": "display_data"
    }
   ],
   "source": [
    "# Univariate analysis to understand each feature\n",
    "fig,ax=plt.subplots(3,3,figsize=(15,8))\n",
    "sns.boxplot(x=df1[\"AveragePrice\"],ax=ax[0,0])\n",
    "sns.boxplot(x=df1[\"Total Volume\"],ax=ax[0,1])\n",
    "sns.boxplot(x=df1[\"4046\"],ax=ax[0,2])\n",
    "sns.boxplot(x=df1[\"4225\"],ax=ax[1,0])\n",
    "sns.boxplot(x=df1[\"4770\"],ax=ax[1,1])\n",
    "sns.boxplot(x=df1[\"Total Bags\"],ax=ax[1,2])\n",
    "sns.boxplot(x=df1[\"Small Bags\"],ax=ax[2,0])\n",
    "sns.boxplot(x=df1[\"Large Bags\"],ax=ax[2,1])\n",
    "sns.boxplot(x=df1[\"XLarge Bags\"],ax=ax[2,2])\n",
    "plt.tight_layout()\n",
    "plt.show()"
   ]
  },
  {
   "cell_type": "code",
   "execution_count": 319,
   "metadata": {},
   "outputs": [
    {
     "data": {
      "image/png": "[encoded data removed]",
      "text/plain": [
       "<Figure size 1080x576 with 9 Axes>"
      ]
     },
     "metadata": {
      "needs_background": "light"
     },
     "output_type": "display_data"
    }
   ],
   "source": [
    "fig,ax=plt.subplots(3,3,figsize=(15,8))\n",
    "sns.distplot(df1[\"AveragePrice\"],ax=ax[0,0])\n",
    "sns.distplot(df1[\"Total Volume\"],ax=ax[0,1])\n",
    "sns.distplot(df1[\"4046\"],ax=ax[0,2])\n",
    "sns.distplot(df1[\"4225\"],ax=ax[1,0])\n",
    "sns.distplot(df1[\"4770\"],ax=ax[1,1])\n",
    "sns.distplot(df1[\"Total Bags\"],ax=ax[1,2])\n",
    "sns.distplot(df1[\"Small Bags\"],ax=ax[2,0])\n",
    "sns.distplot(df1[\"Large Bags\"],ax=ax[2,1])\n",
    "sns.distplot(df1[\"XLarge Bags\"],ax=ax[2,2])\n",
    "plt.tight_layout()\n",
    "plt.show()"
   ]
  },
  {
   "cell_type": "code",
   "execution_count": 320,
   "metadata": {},
   "outputs": [
    {
     "data": {
      "image/png": "[encoded data removed]",
      "text/plain": [
       "<Figure size 1080x576 with 9 Axes>"
      ]
     },
     "metadata": {
      "needs_background": "light"
     },
     "output_type": "display_data"
    }
   ],
   "source": [
    "fig,ax=plt.subplots(3,3,figsize=(15,8))\n",
    "df1[\"AveragePrice\"].plot.hist(ax=ax[0,0])\n",
    "df1[\"Total Volume\"].plot.hist(ax=ax[0,1])\n",
    "df1[\"4046\"].plot.hist(ax=ax[0,2])\n",
    "df1[\"4225\"].plot.hist(ax=ax[1,0])\n",
    "df1[\"4770\"].plot.hist(ax=ax[1,1])\n",
    "df1[\"Total Bags\"].plot.hist(ax=ax[1,2])\n",
    "df1[\"Small Bags\"].plot.hist(ax=ax[2,0])\n",
    "df1[\"Large Bags\"].plot.hist(ax=ax[2,1])\n",
    "df1[\"XLarge Bags\"].plot.hist(ax=ax[2,2])\n",
    "plt.tight_layout()\n",
    "plt.show()"
   ]
  },
  {
   "cell_type": "code",
   "execution_count": 321,
   "metadata": {},
   "outputs": [
    {
     "data": {
      "text/plain": [
       "year  type        \n",
       "2015  conventional    2808\n",
       "      organic         2807\n",
       "2016  conventional    2808\n",
       "      organic         2808\n",
       "2017  conventional    2862\n",
       "      organic         2860\n",
       "2018  conventional     648\n",
       "      organic          648\n",
       "Name: type, dtype: int64"
      ]
     },
     "execution_count": 321,
     "metadata": {},
     "output_type": "execute_result"
    }
   ],
   "source": [
    "df1.groupby(\"year\")[\"type\"].value_counts()"
   ]
  },
  {
   "cell_type": "code",
   "execution_count": 322,
   "metadata": {},
   "outputs": [],
   "source": [
    "Organic=df1[df1[\"type\"]==\"organic\"]\n",
    "conventional=df1[df1[\"type\"]==\"organic\"]"
   ]
  },
  {
   "cell_type": "code",
   "execution_count": 323,
   "metadata": {},
   "outputs": [
    {
     "name": "stdout",
     "output_type": "stream",
     "text": [
      "Average price of organic type avocado every year: year\n",
      "2015    1.673324\n",
      "2016    1.571684\n",
      "2017    1.735521\n",
      "2018    1.567176\n",
      "Name: AveragePrice, dtype: float64\n",
      "\n",
      "Average price of conventional type avocado every year: year\n",
      "2015    1.673324\n",
      "2016    1.571684\n",
      "2017    1.735521\n",
      "2018    1.567176\n",
      "Name: AveragePrice, dtype: float64\n",
      "\n",
      "Average volume of organic type avocado every year: year\n",
      "2015    31659.931012\n",
      "2016    46524.244580\n",
      "2017    58790.176864\n",
      "2018    74895.480139\n",
      "Name: Total Volume, dtype: float64\n",
      "\n",
      "Average volume of conventional type avocado every year: year\n",
      "2015    31659.931012\n",
      "2016    46524.244580\n",
      "2017    58790.176864\n",
      "2018    74895.480139\n",
      "Name: Total Volume, dtype: float64\n"
     ]
    }
   ],
   "source": [
    "#checking average volume , sales and price every year of organic and conventional type \n",
    "print(\"Average price of organic type avocado every year:\",Organic.groupby('year')['AveragePrice'].mean())\n",
    "print()\n",
    "print(\"Average price of conventional type avocado every year:\",conventional.groupby('year')['AveragePrice'].mean())\n",
    "print()\n",
    "print(\"Average volume of organic type avocado every year:\",Organic.groupby('year')['Total Volume'].mean())\n",
    "print()\n",
    "print(\"Average volume of conventional type avocado every year:\",conventional.groupby('year')['Total Volume'].mean())"
   ]
  },
  {
   "cell_type": "code",
   "execution_count": 324,
   "metadata": {},
   "outputs": [
    {
     "data": {
      "text/plain": [
       "year  type        \n",
       "2015  conventional    2808\n",
       "      organic         2807\n",
       "2016  conventional    2808\n",
       "      organic         2808\n",
       "2017  conventional    2862\n",
       "      organic         2860\n",
       "2018  conventional     648\n",
       "      organic          648\n",
       "Name: type, dtype: int64"
      ]
     },
     "execution_count": 324,
     "metadata": {},
     "output_type": "execute_result"
    }
   ],
   "source": [
    "df1.groupby('year')['type'].value_counts()"
   ]
  },
  {
   "cell_type": "code",
   "execution_count": 325,
   "metadata": {},
   "outputs": [],
   "source": [
    "df1['Date']=pd.to_datetime(df1['Date'])\n",
    "df1['Month']=df1['Date'].apply(lambda x:x.month)\n",
    "df1['Day']=df1['Date'].apply(lambda x:x.day)"
   ]
  },
  {
   "cell_type": "code",
   "execution_count": 326,
   "metadata": {},
   "outputs": [],
   "source": [
    "df1.drop(columns=\"Date\",inplace=True)"
   ]
  },
  {
   "cell_type": "code",
   "execution_count": 327,
   "metadata": {},
   "outputs": [
    {
     "data": {
      "text/html": [
       "<div>\n",
       "<style scoped>\n",
       "    .dataframe tbody tr th:only-of-type {\n",
       "        vertical-align: middle;\n",
       "    }\n",
       "\n",
       "    .dataframe tbody tr th {\n",
       "        vertical-align: top;\n",
       "    }\n",
       "\n",
       "    .dataframe thead th {\n",
       "        text-align: right;\n",
       "    }\n",
       "</style>\n",
       "<table border=\"1\" class=\"dataframe\">\n",
       "  <thead>\n",
       "    <tr style=\"text-align: right;\">\n",
       "      <th></th>\n",
       "      <th>AveragePrice</th>\n",
       "      <th>Total Volume</th>\n",
       "      <th>4046</th>\n",
       "      <th>4225</th>\n",
       "      <th>4770</th>\n",
       "      <th>Total Bags</th>\n",
       "      <th>Small Bags</th>\n",
       "      <th>Large Bags</th>\n",
       "      <th>XLarge Bags</th>\n",
       "      <th>type</th>\n",
       "      <th>year</th>\n",
       "      <th>region</th>\n",
       "      <th>Month</th>\n",
       "      <th>Day</th>\n",
       "    </tr>\n",
       "  </thead>\n",
       "  <tbody>\n",
       "    <tr>\n",
       "      <th>0</th>\n",
       "      <td>1.33</td>\n",
       "      <td>64236.62</td>\n",
       "      <td>1036.74</td>\n",
       "      <td>54454.85</td>\n",
       "      <td>48.16</td>\n",
       "      <td>8696.87</td>\n",
       "      <td>8603.62</td>\n",
       "      <td>93.25</td>\n",
       "      <td>0.0</td>\n",
       "      <td>conventional</td>\n",
       "      <td>2015</td>\n",
       "      <td>Albany</td>\n",
       "      <td>12</td>\n",
       "      <td>27</td>\n",
       "    </tr>\n",
       "    <tr>\n",
       "      <th>1</th>\n",
       "      <td>1.35</td>\n",
       "      <td>54876.98</td>\n",
       "      <td>674.28</td>\n",
       "      <td>44638.81</td>\n",
       "      <td>58.33</td>\n",
       "      <td>9505.56</td>\n",
       "      <td>9408.07</td>\n",
       "      <td>97.49</td>\n",
       "      <td>0.0</td>\n",
       "      <td>conventional</td>\n",
       "      <td>2015</td>\n",
       "      <td>Albany</td>\n",
       "      <td>12</td>\n",
       "      <td>20</td>\n",
       "    </tr>\n",
       "    <tr>\n",
       "      <th>2</th>\n",
       "      <td>0.93</td>\n",
       "      <td>118220.22</td>\n",
       "      <td>794.70</td>\n",
       "      <td>109149.67</td>\n",
       "      <td>130.50</td>\n",
       "      <td>8145.35</td>\n",
       "      <td>8042.21</td>\n",
       "      <td>103.14</td>\n",
       "      <td>0.0</td>\n",
       "      <td>conventional</td>\n",
       "      <td>2015</td>\n",
       "      <td>Albany</td>\n",
       "      <td>12</td>\n",
       "      <td>13</td>\n",
       "    </tr>\n",
       "    <tr>\n",
       "      <th>3</th>\n",
       "      <td>1.08</td>\n",
       "      <td>78992.15</td>\n",
       "      <td>1132.00</td>\n",
       "      <td>71976.41</td>\n",
       "      <td>72.58</td>\n",
       "      <td>5811.16</td>\n",
       "      <td>5677.40</td>\n",
       "      <td>133.76</td>\n",
       "      <td>0.0</td>\n",
       "      <td>conventional</td>\n",
       "      <td>2015</td>\n",
       "      <td>Albany</td>\n",
       "      <td>6</td>\n",
       "      <td>12</td>\n",
       "    </tr>\n",
       "    <tr>\n",
       "      <th>4</th>\n",
       "      <td>1.28</td>\n",
       "      <td>51039.60</td>\n",
       "      <td>941.48</td>\n",
       "      <td>43838.39</td>\n",
       "      <td>75.78</td>\n",
       "      <td>6183.95</td>\n",
       "      <td>5986.26</td>\n",
       "      <td>197.69</td>\n",
       "      <td>0.0</td>\n",
       "      <td>conventional</td>\n",
       "      <td>2015</td>\n",
       "      <td>Albany</td>\n",
       "      <td>11</td>\n",
       "      <td>29</td>\n",
       "    </tr>\n",
       "  </tbody>\n",
       "</table>\n",
       "</div>"
      ],
      "text/plain": [
       "   AveragePrice  Total Volume     4046       4225    4770  Total Bags  \\\n",
       "0          1.33      64236.62  1036.74   54454.85   48.16     8696.87   \n",
       "1          1.35      54876.98   674.28   44638.81   58.33     9505.56   \n",
       "2          0.93     118220.22   794.70  109149.67  130.50     8145.35   \n",
       "3          1.08      78992.15  1132.00   71976.41   72.58     5811.16   \n",
       "4          1.28      51039.60   941.48   43838.39   75.78     6183.95   \n",
       "\n",
       "   Small Bags  Large Bags  XLarge Bags          type  year  region  Month  Day  \n",
       "0     8603.62       93.25          0.0  conventional  2015  Albany     12   27  \n",
       "1     9408.07       97.49          0.0  conventional  2015  Albany     12   20  \n",
       "2     8042.21      103.14          0.0  conventional  2015  Albany     12   13  \n",
       "3     5677.40      133.76          0.0  conventional  2015  Albany      6   12  \n",
       "4     5986.26      197.69          0.0  conventional  2015  Albany     11   29  "
      ]
     },
     "execution_count": 327,
     "metadata": {},
     "output_type": "execute_result"
    }
   ],
   "source": [
    "df1.head(5)"
   ]
  },
  {
   "cell_type": "code",
   "execution_count": 328,
   "metadata": {},
   "outputs": [],
   "source": [
    "# Replacing 0 with mean \n",
    "df1[\"4046\"].replace(0,df1[\"4046\"].mean(),inplace=True)\n"
   ]
  },
  {
   "cell_type": "code",
   "execution_count": 329,
   "metadata": {},
   "outputs": [],
   "source": [
    "df1[\"4225\"].replace(0,df1[\"4225\"].mean(),inplace=True)\n",
    "df1[\"4770\"].replace(0,df1[\"4770\"].mean(),inplace=True)\n",
    "df1[\"Total Bags\"].replace(0,df1[\"Total Bags\"].mean(),inplace=True)\n",
    "df1[\"Small Bags\"].replace(0,df1[\"Small Bags\"].mean(),inplace=True)\n",
    "df1[\"Large Bags\"].replace(0,df1[\"Large Bags\"].mean(),inplace=True)\n",
    "df1[\"XLarge Bags\"].replace(0,df1[\"XLarge Bags\"].mean(),inplace=True)"
   ]
  },
  {
   "cell_type": "code",
   "execution_count": 330,
   "metadata": {},
   "outputs": [
    {
     "data": {
      "text/html": [
       "<div>\n",
       "<style scoped>\n",
       "    .dataframe tbody tr th:only-of-type {\n",
       "        vertical-align: middle;\n",
       "    }\n",
       "\n",
       "    .dataframe tbody tr th {\n",
       "        vertical-align: top;\n",
       "    }\n",
       "\n",
       "    .dataframe thead th {\n",
       "        text-align: right;\n",
       "    }\n",
       "</style>\n",
       "<table border=\"1\" class=\"dataframe\">\n",
       "  <thead>\n",
       "    <tr style=\"text-align: right;\">\n",
       "      <th></th>\n",
       "      <th>AveragePrice</th>\n",
       "      <th>Total Volume</th>\n",
       "      <th>4046</th>\n",
       "      <th>4225</th>\n",
       "      <th>4770</th>\n",
       "      <th>Total Bags</th>\n",
       "      <th>Small Bags</th>\n",
       "      <th>Large Bags</th>\n",
       "      <th>XLarge Bags</th>\n",
       "      <th>year</th>\n",
       "      <th>Month</th>\n",
       "      <th>Day</th>\n",
       "    </tr>\n",
       "  </thead>\n",
       "  <tbody>\n",
       "    <tr>\n",
       "      <th>count</th>\n",
       "      <td>18249.000000</td>\n",
       "      <td>1.824900e+04</td>\n",
       "      <td>1.824900e+04</td>\n",
       "      <td>1.824900e+04</td>\n",
       "      <td>1.824900e+04</td>\n",
       "      <td>1.824900e+04</td>\n",
       "      <td>1.824900e+04</td>\n",
       "      <td>1.824900e+04</td>\n",
       "      <td>18249.000000</td>\n",
       "      <td>18249.000000</td>\n",
       "      <td>18249.000000</td>\n",
       "      <td>18249.000000</td>\n",
       "    </tr>\n",
       "    <tr>\n",
       "      <th>mean</th>\n",
       "      <td>1.405978</td>\n",
       "      <td>8.506440e+05</td>\n",
       "      <td>2.968940e+05</td>\n",
       "      <td>2.961412e+05</td>\n",
       "      <td>2.971957e+04</td>\n",
       "      <td>2.398362e+05</td>\n",
       "      <td>1.837821e+05</td>\n",
       "      <td>6.139498e+04</td>\n",
       "      <td>5157.291024</td>\n",
       "      <td>2016.147899</td>\n",
       "      <td>6.372842</td>\n",
       "      <td>15.466984</td>\n",
       "    </tr>\n",
       "    <tr>\n",
       "      <th>std</th>\n",
       "      <td>0.402677</td>\n",
       "      <td>3.453545e+06</td>\n",
       "      <td>1.264533e+06</td>\n",
       "      <td>1.203999e+06</td>\n",
       "      <td>1.065084e+05</td>\n",
       "      <td>9.862184e+05</td>\n",
       "      <td>7.459830e+05</td>\n",
       "      <td>2.430763e+05</td>\n",
       "      <td>17391.406970</td>\n",
       "      <td>0.939938</td>\n",
       "      <td>3.525034</td>\n",
       "      <td>8.984552</td>\n",
       "    </tr>\n",
       "    <tr>\n",
       "      <th>min</th>\n",
       "      <td>0.440000</td>\n",
       "      <td>8.456000e+01</td>\n",
       "      <td>1.000000e+00</td>\n",
       "      <td>1.260000e+00</td>\n",
       "      <td>8.300000e-01</td>\n",
       "      <td>3.090000e+00</td>\n",
       "      <td>2.520000e+00</td>\n",
       "      <td>9.700000e-01</td>\n",
       "      <td>1.000000</td>\n",
       "      <td>2015.000000</td>\n",
       "      <td>1.000000</td>\n",
       "      <td>1.000000</td>\n",
       "    </tr>\n",
       "    <tr>\n",
       "      <th>25%</th>\n",
       "      <td>1.100000</td>\n",
       "      <td>1.083858e+04</td>\n",
       "      <td>9.750900e+02</td>\n",
       "      <td>3.086950e+03</td>\n",
       "      <td>3.786500e+02</td>\n",
       "      <td>5.108010e+03</td>\n",
       "      <td>3.125050e+03</td>\n",
       "      <td>9.187500e+02</td>\n",
       "      <td>3106.426507</td>\n",
       "      <td>2015.000000</td>\n",
       "      <td>3.000000</td>\n",
       "      <td>7.000000</td>\n",
       "    </tr>\n",
       "    <tr>\n",
       "      <th>50%</th>\n",
       "      <td>1.370000</td>\n",
       "      <td>1.073768e+05</td>\n",
       "      <td>9.954770e+03</td>\n",
       "      <td>2.977364e+04</td>\n",
       "      <td>1.111933e+04</td>\n",
       "      <td>3.992521e+04</td>\n",
       "      <td>2.787623e+04</td>\n",
       "      <td>7.942080e+03</td>\n",
       "      <td>3106.426507</td>\n",
       "      <td>2016.000000</td>\n",
       "      <td>6.000000</td>\n",
       "      <td>16.000000</td>\n",
       "    </tr>\n",
       "    <tr>\n",
       "      <th>75%</th>\n",
       "      <td>1.660000</td>\n",
       "      <td>4.329623e+05</td>\n",
       "      <td>1.217699e+05</td>\n",
       "      <td>1.542584e+05</td>\n",
       "      <td>2.283974e+04</td>\n",
       "      <td>1.112384e+05</td>\n",
       "      <td>8.620928e+04</td>\n",
       "      <td>5.433809e+04</td>\n",
       "      <td>3106.426507</td>\n",
       "      <td>2017.000000</td>\n",
       "      <td>10.000000</td>\n",
       "      <td>23.000000</td>\n",
       "    </tr>\n",
       "    <tr>\n",
       "      <th>max</th>\n",
       "      <td>3.250000</td>\n",
       "      <td>6.250565e+07</td>\n",
       "      <td>2.274362e+07</td>\n",
       "      <td>2.047057e+07</td>\n",
       "      <td>2.546439e+06</td>\n",
       "      <td>1.937313e+07</td>\n",
       "      <td>1.338459e+07</td>\n",
       "      <td>5.719097e+06</td>\n",
       "      <td>551693.650000</td>\n",
       "      <td>2018.000000</td>\n",
       "      <td>12.000000</td>\n",
       "      <td>31.000000</td>\n",
       "    </tr>\n",
       "  </tbody>\n",
       "</table>\n",
       "</div>"
      ],
      "text/plain": [
       "       AveragePrice  Total Volume          4046          4225          4770  \\\n",
       "count  18249.000000  1.824900e+04  1.824900e+04  1.824900e+04  1.824900e+04   \n",
       "mean       1.405978  8.506440e+05  2.968940e+05  2.961412e+05  2.971957e+04   \n",
       "std        0.402677  3.453545e+06  1.264533e+06  1.203999e+06  1.065084e+05   \n",
       "min        0.440000  8.456000e+01  1.000000e+00  1.260000e+00  8.300000e-01   \n",
       "25%        1.100000  1.083858e+04  9.750900e+02  3.086950e+03  3.786500e+02   \n",
       "50%        1.370000  1.073768e+05  9.954770e+03  2.977364e+04  1.111933e+04   \n",
       "75%        1.660000  4.329623e+05  1.217699e+05  1.542584e+05  2.283974e+04   \n",
       "max        3.250000  6.250565e+07  2.274362e+07  2.047057e+07  2.546439e+06   \n",
       "\n",
       "         Total Bags    Small Bags    Large Bags    XLarge Bags          year  \\\n",
       "count  1.824900e+04  1.824900e+04  1.824900e+04   18249.000000  18249.000000   \n",
       "mean   2.398362e+05  1.837821e+05  6.139498e+04    5157.291024   2016.147899   \n",
       "std    9.862184e+05  7.459830e+05  2.430763e+05   17391.406970      0.939938   \n",
       "min    3.090000e+00  2.520000e+00  9.700000e-01       1.000000   2015.000000   \n",
       "25%    5.108010e+03  3.125050e+03  9.187500e+02    3106.426507   2015.000000   \n",
       "50%    3.992521e+04  2.787623e+04  7.942080e+03    3106.426507   2016.000000   \n",
       "75%    1.112384e+05  8.620928e+04  5.433809e+04    3106.426507   2017.000000   \n",
       "max    1.937313e+07  1.338459e+07  5.719097e+06  551693.650000   2018.000000   \n",
       "\n",
       "              Month           Day  \n",
       "count  18249.000000  18249.000000  \n",
       "mean       6.372842     15.466984  \n",
       "std        3.525034      8.984552  \n",
       "min        1.000000      1.000000  \n",
       "25%        3.000000      7.000000  \n",
       "50%        6.000000     16.000000  \n",
       "75%       10.000000     23.000000  \n",
       "max       12.000000     31.000000  "
      ]
     },
     "execution_count": 330,
     "metadata": {},
     "output_type": "execute_result"
    }
   ],
   "source": [
    "df1.describe()"
   ]
  },
  {
   "cell_type": "code",
   "execution_count": 331,
   "metadata": {},
   "outputs": [
    {
     "data": {
      "text/html": [
       "<div>\n",
       "<style scoped>\n",
       "    .dataframe tbody tr th:only-of-type {\n",
       "        vertical-align: middle;\n",
       "    }\n",
       "\n",
       "    .dataframe tbody tr th {\n",
       "        vertical-align: top;\n",
       "    }\n",
       "\n",
       "    .dataframe thead th {\n",
       "        text-align: right;\n",
       "    }\n",
       "</style>\n",
       "<table border=\"1\" class=\"dataframe\">\n",
       "  <thead>\n",
       "    <tr style=\"text-align: right;\">\n",
       "      <th></th>\n",
       "      <th>AveragePrice</th>\n",
       "      <th>Total Volume</th>\n",
       "      <th>4046</th>\n",
       "      <th>4225</th>\n",
       "      <th>4770</th>\n",
       "      <th>Total Bags</th>\n",
       "      <th>Small Bags</th>\n",
       "      <th>Large Bags</th>\n",
       "      <th>XLarge Bags</th>\n",
       "      <th>type</th>\n",
       "      <th>year</th>\n",
       "      <th>region</th>\n",
       "      <th>Month</th>\n",
       "      <th>Day</th>\n",
       "    </tr>\n",
       "  </thead>\n",
       "  <tbody>\n",
       "    <tr>\n",
       "      <th>0</th>\n",
       "      <td>1.33</td>\n",
       "      <td>64236.62</td>\n",
       "      <td>1036.74</td>\n",
       "      <td>54454.85</td>\n",
       "      <td>48.16</td>\n",
       "      <td>8696.87</td>\n",
       "      <td>8603.62</td>\n",
       "      <td>93.25</td>\n",
       "      <td>3106.426507</td>\n",
       "      <td>conventional</td>\n",
       "      <td>2015</td>\n",
       "      <td>Albany</td>\n",
       "      <td>12</td>\n",
       "      <td>27</td>\n",
       "    </tr>\n",
       "    <tr>\n",
       "      <th>1</th>\n",
       "      <td>1.35</td>\n",
       "      <td>54876.98</td>\n",
       "      <td>674.28</td>\n",
       "      <td>44638.81</td>\n",
       "      <td>58.33</td>\n",
       "      <td>9505.56</td>\n",
       "      <td>9408.07</td>\n",
       "      <td>97.49</td>\n",
       "      <td>3106.426507</td>\n",
       "      <td>conventional</td>\n",
       "      <td>2015</td>\n",
       "      <td>Albany</td>\n",
       "      <td>12</td>\n",
       "      <td>20</td>\n",
       "    </tr>\n",
       "    <tr>\n",
       "      <th>2</th>\n",
       "      <td>0.93</td>\n",
       "      <td>118220.22</td>\n",
       "      <td>794.70</td>\n",
       "      <td>109149.67</td>\n",
       "      <td>130.50</td>\n",
       "      <td>8145.35</td>\n",
       "      <td>8042.21</td>\n",
       "      <td>103.14</td>\n",
       "      <td>3106.426507</td>\n",
       "      <td>conventional</td>\n",
       "      <td>2015</td>\n",
       "      <td>Albany</td>\n",
       "      <td>12</td>\n",
       "      <td>13</td>\n",
       "    </tr>\n",
       "    <tr>\n",
       "      <th>3</th>\n",
       "      <td>1.08</td>\n",
       "      <td>78992.15</td>\n",
       "      <td>1132.00</td>\n",
       "      <td>71976.41</td>\n",
       "      <td>72.58</td>\n",
       "      <td>5811.16</td>\n",
       "      <td>5677.40</td>\n",
       "      <td>133.76</td>\n",
       "      <td>3106.426507</td>\n",
       "      <td>conventional</td>\n",
       "      <td>2015</td>\n",
       "      <td>Albany</td>\n",
       "      <td>6</td>\n",
       "      <td>12</td>\n",
       "    </tr>\n",
       "    <tr>\n",
       "      <th>4</th>\n",
       "      <td>1.28</td>\n",
       "      <td>51039.60</td>\n",
       "      <td>941.48</td>\n",
       "      <td>43838.39</td>\n",
       "      <td>75.78</td>\n",
       "      <td>6183.95</td>\n",
       "      <td>5986.26</td>\n",
       "      <td>197.69</td>\n",
       "      <td>3106.426507</td>\n",
       "      <td>conventional</td>\n",
       "      <td>2015</td>\n",
       "      <td>Albany</td>\n",
       "      <td>11</td>\n",
       "      <td>29</td>\n",
       "    </tr>\n",
       "  </tbody>\n",
       "</table>\n",
       "</div>"
      ],
      "text/plain": [
       "   AveragePrice  Total Volume     4046       4225    4770  Total Bags  \\\n",
       "0          1.33      64236.62  1036.74   54454.85   48.16     8696.87   \n",
       "1          1.35      54876.98   674.28   44638.81   58.33     9505.56   \n",
       "2          0.93     118220.22   794.70  109149.67  130.50     8145.35   \n",
       "3          1.08      78992.15  1132.00   71976.41   72.58     5811.16   \n",
       "4          1.28      51039.60   941.48   43838.39   75.78     6183.95   \n",
       "\n",
       "   Small Bags  Large Bags  XLarge Bags          type  year  region  Month  Day  \n",
       "0     8603.62       93.25  3106.426507  conventional  2015  Albany     12   27  \n",
       "1     9408.07       97.49  3106.426507  conventional  2015  Albany     12   20  \n",
       "2     8042.21      103.14  3106.426507  conventional  2015  Albany     12   13  \n",
       "3     5677.40      133.76  3106.426507  conventional  2015  Albany      6   12  \n",
       "4     5986.26      197.69  3106.426507  conventional  2015  Albany     11   29  "
      ]
     },
     "execution_count": 331,
     "metadata": {},
     "output_type": "execute_result"
    }
   ],
   "source": [
    "df1.head(5)"
   ]
  },
  {
   "cell_type": "code",
   "execution_count": 332,
   "metadata": {},
   "outputs": [],
   "source": [
    "from sklearn.preprocessing import LabelEncoder"
   ]
  },
  {
   "cell_type": "code",
   "execution_count": 333,
   "metadata": {},
   "outputs": [
    {
     "data": {
      "text/plain": [
       "0        0\n",
       "1        0\n",
       "2        0\n",
       "3        0\n",
       "4        0\n",
       "        ..\n",
       "18244    1\n",
       "18245    1\n",
       "18246    1\n",
       "18247    1\n",
       "18248    1\n",
       "Name: type, Length: 18249, dtype: int32"
      ]
     },
     "execution_count": 333,
     "metadata": {},
     "output_type": "execute_result"
    }
   ],
   "source": [
    "le=LabelEncoder()\n",
    "df1[\"type\"]=le.fit_transform(df1[\"type\"].astype(str))\n",
    "df1[\"type\"]"
   ]
  },
  {
   "cell_type": "code",
   "execution_count": 334,
   "metadata": {},
   "outputs": [
    {
     "data": {
      "text/plain": [
       "0         0\n",
       "1         0\n",
       "2         0\n",
       "3         0\n",
       "4         0\n",
       "         ..\n",
       "18244    53\n",
       "18245    53\n",
       "18246    53\n",
       "18247    53\n",
       "18248    53\n",
       "Name: region, Length: 18249, dtype: int32"
      ]
     },
     "execution_count": 334,
     "metadata": {},
     "output_type": "execute_result"
    }
   ],
   "source": [
    "le=LabelEncoder()\n",
    "df1[\"region\"]=le.fit_transform(df1[\"region\"].astype(str))\n",
    "df1[\"region\"]"
   ]
  },
  {
   "cell_type": "code",
   "execution_count": 335,
   "metadata": {},
   "outputs": [
    {
     "data": {
      "text/html": [
       "<div>\n",
       "<style scoped>\n",
       "    .dataframe tbody tr th:only-of-type {\n",
       "        vertical-align: middle;\n",
       "    }\n",
       "\n",
       "    .dataframe tbody tr th {\n",
       "        vertical-align: top;\n",
       "    }\n",
       "\n",
       "    .dataframe thead th {\n",
       "        text-align: right;\n",
       "    }\n",
       "</style>\n",
       "<table border=\"1\" class=\"dataframe\">\n",
       "  <thead>\n",
       "    <tr style=\"text-align: right;\">\n",
       "      <th></th>\n",
       "      <th>AveragePrice</th>\n",
       "      <th>Total Volume</th>\n",
       "      <th>4046</th>\n",
       "      <th>4225</th>\n",
       "      <th>4770</th>\n",
       "      <th>Total Bags</th>\n",
       "      <th>Small Bags</th>\n",
       "      <th>Large Bags</th>\n",
       "      <th>XLarge Bags</th>\n",
       "      <th>type</th>\n",
       "      <th>year</th>\n",
       "      <th>region</th>\n",
       "      <th>Month</th>\n",
       "      <th>Day</th>\n",
       "    </tr>\n",
       "  </thead>\n",
       "  <tbody>\n",
       "    <tr>\n",
       "      <th>AveragePrice</th>\n",
       "      <td>1.000000</td>\n",
       "      <td>-0.192752</td>\n",
       "      <td>-0.206687</td>\n",
       "      <td>-0.172693</td>\n",
       "      <td>-0.146752</td>\n",
       "      <td>-0.176847</td>\n",
       "      <td>-0.173151</td>\n",
       "      <td>-0.154010</td>\n",
       "      <td>-0.084869</td>\n",
       "      <td>0.615845</td>\n",
       "      <td>0.093197</td>\n",
       "      <td>-0.011716</td>\n",
       "      <td>0.075134</td>\n",
       "      <td>0.061157</td>\n",
       "    </tr>\n",
       "    <tr>\n",
       "      <th>Total Volume</th>\n",
       "      <td>-0.192752</td>\n",
       "      <td>1.000000</td>\n",
       "      <td>0.977463</td>\n",
       "      <td>0.974078</td>\n",
       "      <td>0.864455</td>\n",
       "      <td>0.963022</td>\n",
       "      <td>0.966977</td>\n",
       "      <td>0.877119</td>\n",
       "      <td>0.736038</td>\n",
       "      <td>-0.232434</td>\n",
       "      <td>0.017193</td>\n",
       "      <td>0.174176</td>\n",
       "      <td>-0.015344</td>\n",
       "      <td>-0.013212</td>\n",
       "    </tr>\n",
       "    <tr>\n",
       "      <th>4046</th>\n",
       "      <td>-0.206687</td>\n",
       "      <td>0.977463</td>\n",
       "      <td>1.000000</td>\n",
       "      <td>0.925593</td>\n",
       "      <td>0.826171</td>\n",
       "      <td>0.919631</td>\n",
       "      <td>0.924627</td>\n",
       "      <td>0.835021</td>\n",
       "      <td>0.688072</td>\n",
       "      <td>-0.222827</td>\n",
       "      <td>0.003574</td>\n",
       "      <td>0.192410</td>\n",
       "      <td>-0.014655</td>\n",
       "      <td>-0.014658</td>\n",
       "    </tr>\n",
       "    <tr>\n",
       "      <th>4225</th>\n",
       "      <td>-0.172693</td>\n",
       "      <td>0.974078</td>\n",
       "      <td>0.925593</td>\n",
       "      <td>1.000000</td>\n",
       "      <td>0.880332</td>\n",
       "      <td>0.905656</td>\n",
       "      <td>0.915659</td>\n",
       "      <td>0.806358</td>\n",
       "      <td>0.677366</td>\n",
       "      <td>-0.231493</td>\n",
       "      <td>-0.009718</td>\n",
       "      <td>0.145953</td>\n",
       "      <td>-0.015767</td>\n",
       "      <td>-0.014521</td>\n",
       "    </tr>\n",
       "    <tr>\n",
       "      <th>4770</th>\n",
       "      <td>-0.146752</td>\n",
       "      <td>0.864455</td>\n",
       "      <td>0.826171</td>\n",
       "      <td>0.880332</td>\n",
       "      <td>1.000000</td>\n",
       "      <td>0.784314</td>\n",
       "      <td>0.794642</td>\n",
       "      <td>0.689588</td>\n",
       "      <td>0.667364</td>\n",
       "      <td>-0.147329</td>\n",
       "      <td>-0.036746</td>\n",
       "      <td>0.085718</td>\n",
       "      <td>-0.024095</td>\n",
       "      <td>-0.012765</td>\n",
       "    </tr>\n",
       "    <tr>\n",
       "      <th>Total Bags</th>\n",
       "      <td>-0.176847</td>\n",
       "      <td>0.963022</td>\n",
       "      <td>0.919631</td>\n",
       "      <td>0.905656</td>\n",
       "      <td>0.784314</td>\n",
       "      <td>1.000000</td>\n",
       "      <td>0.994105</td>\n",
       "      <td>0.939750</td>\n",
       "      <td>0.794760</td>\n",
       "      <td>-0.217594</td>\n",
       "      <td>0.071310</td>\n",
       "      <td>0.175447</td>\n",
       "      <td>-0.013049</td>\n",
       "      <td>-0.008690</td>\n",
       "    </tr>\n",
       "    <tr>\n",
       "      <th>Small Bags</th>\n",
       "      <td>-0.173151</td>\n",
       "      <td>0.966977</td>\n",
       "      <td>0.924627</td>\n",
       "      <td>0.915659</td>\n",
       "      <td>0.794642</td>\n",
       "      <td>0.994105</td>\n",
       "      <td>1.000000</td>\n",
       "      <td>0.898993</td>\n",
       "      <td>0.796916</td>\n",
       "      <td>-0.218465</td>\n",
       "      <td>0.061902</td>\n",
       "      <td>0.165930</td>\n",
       "      <td>-0.012474</td>\n",
       "      <td>-0.007877</td>\n",
       "    </tr>\n",
       "    <tr>\n",
       "      <th>Large Bags</th>\n",
       "      <td>-0.154010</td>\n",
       "      <td>0.877119</td>\n",
       "      <td>0.835021</td>\n",
       "      <td>0.806358</td>\n",
       "      <td>0.689588</td>\n",
       "      <td>0.939750</td>\n",
       "      <td>0.898993</td>\n",
       "      <td>1.000000</td>\n",
       "      <td>0.702041</td>\n",
       "      <td>-0.173936</td>\n",
       "      <td>0.074300</td>\n",
       "      <td>0.196301</td>\n",
       "      <td>-0.015441</td>\n",
       "      <td>-0.011309</td>\n",
       "    </tr>\n",
       "    <tr>\n",
       "      <th>XLarge Bags</th>\n",
       "      <td>-0.084869</td>\n",
       "      <td>0.736038</td>\n",
       "      <td>0.688072</td>\n",
       "      <td>0.677366</td>\n",
       "      <td>0.667364</td>\n",
       "      <td>0.794760</td>\n",
       "      <td>0.796916</td>\n",
       "      <td>0.702041</td>\n",
       "      <td>1.000000</td>\n",
       "      <td>-0.120678</td>\n",
       "      <td>0.069213</td>\n",
       "      <td>0.082393</td>\n",
       "      <td>-0.007228</td>\n",
       "      <td>-0.003209</td>\n",
       "    </tr>\n",
       "    <tr>\n",
       "      <th>type</th>\n",
       "      <td>0.615845</td>\n",
       "      <td>-0.232434</td>\n",
       "      <td>-0.222827</td>\n",
       "      <td>-0.231493</td>\n",
       "      <td>-0.147329</td>\n",
       "      <td>-0.217594</td>\n",
       "      <td>-0.218465</td>\n",
       "      <td>-0.173936</td>\n",
       "      <td>-0.120678</td>\n",
       "      <td>1.000000</td>\n",
       "      <td>-0.000032</td>\n",
       "      <td>-0.000280</td>\n",
       "      <td>0.000017</td>\n",
       "      <td>-0.000052</td>\n",
       "    </tr>\n",
       "    <tr>\n",
       "      <th>year</th>\n",
       "      <td>0.093197</td>\n",
       "      <td>0.017193</td>\n",
       "      <td>0.003574</td>\n",
       "      <td>-0.009718</td>\n",
       "      <td>-0.036746</td>\n",
       "      <td>0.071310</td>\n",
       "      <td>0.061902</td>\n",
       "      <td>0.074300</td>\n",
       "      <td>0.069213</td>\n",
       "      <td>-0.000032</td>\n",
       "      <td>1.000000</td>\n",
       "      <td>-0.000055</td>\n",
       "      <td>-0.098812</td>\n",
       "      <td>-0.026504</td>\n",
       "    </tr>\n",
       "    <tr>\n",
       "      <th>region</th>\n",
       "      <td>-0.011716</td>\n",
       "      <td>0.174176</td>\n",
       "      <td>0.192410</td>\n",
       "      <td>0.145953</td>\n",
       "      <td>0.085718</td>\n",
       "      <td>0.175447</td>\n",
       "      <td>0.165930</td>\n",
       "      <td>0.196301</td>\n",
       "      <td>0.082393</td>\n",
       "      <td>-0.000280</td>\n",
       "      <td>-0.000055</td>\n",
       "      <td>1.000000</td>\n",
       "      <td>0.000030</td>\n",
       "      <td>-0.000089</td>\n",
       "    </tr>\n",
       "    <tr>\n",
       "      <th>Month</th>\n",
       "      <td>0.075134</td>\n",
       "      <td>-0.015344</td>\n",
       "      <td>-0.014655</td>\n",
       "      <td>-0.015767</td>\n",
       "      <td>-0.024095</td>\n",
       "      <td>-0.013049</td>\n",
       "      <td>-0.012474</td>\n",
       "      <td>-0.015441</td>\n",
       "      <td>-0.007228</td>\n",
       "      <td>0.000017</td>\n",
       "      <td>-0.098812</td>\n",
       "      <td>0.000030</td>\n",
       "      <td>1.000000</td>\n",
       "      <td>-0.046984</td>\n",
       "    </tr>\n",
       "    <tr>\n",
       "      <th>Day</th>\n",
       "      <td>0.061157</td>\n",
       "      <td>-0.013212</td>\n",
       "      <td>-0.014658</td>\n",
       "      <td>-0.014521</td>\n",
       "      <td>-0.012765</td>\n",
       "      <td>-0.008690</td>\n",
       "      <td>-0.007877</td>\n",
       "      <td>-0.011309</td>\n",
       "      <td>-0.003209</td>\n",
       "      <td>-0.000052</td>\n",
       "      <td>-0.026504</td>\n",
       "      <td>-0.000089</td>\n",
       "      <td>-0.046984</td>\n",
       "      <td>1.000000</td>\n",
       "    </tr>\n",
       "  </tbody>\n",
       "</table>\n",
       "</div>"
      ],
      "text/plain": [
       "              AveragePrice  Total Volume      4046      4225      4770  \\\n",
       "AveragePrice      1.000000     -0.192752 -0.206687 -0.172693 -0.146752   \n",
       "Total Volume     -0.192752      1.000000  0.977463  0.974078  0.864455   \n",
       "4046             -0.206687      0.977463  1.000000  0.925593  0.826171   \n",
       "4225             -0.172693      0.974078  0.925593  1.000000  0.880332   \n",
       "4770             -0.146752      0.864455  0.826171  0.880332  1.000000   \n",
       "Total Bags       -0.176847      0.963022  0.919631  0.905656  0.784314   \n",
       "Small Bags       -0.173151      0.966977  0.924627  0.915659  0.794642   \n",
       "Large Bags       -0.154010      0.877119  0.835021  0.806358  0.689588   \n",
       "XLarge Bags      -0.084869      0.736038  0.688072  0.677366  0.667364   \n",
       "type              0.615845     -0.232434 -0.222827 -0.231493 -0.147329   \n",
       "year              0.093197      0.017193  0.003574 -0.009718 -0.036746   \n",
       "region           -0.011716      0.174176  0.192410  0.145953  0.085718   \n",
       "Month             0.075134     -0.015344 -0.014655 -0.015767 -0.024095   \n",
       "Day               0.061157     -0.013212 -0.014658 -0.014521 -0.012765   \n",
       "\n",
       "              Total Bags  Small Bags  Large Bags  XLarge Bags      type  \\\n",
       "AveragePrice   -0.176847   -0.173151   -0.154010    -0.084869  0.615845   \n",
       "Total Volume    0.963022    0.966977    0.877119     0.736038 -0.232434   \n",
       "4046            0.919631    0.924627    0.835021     0.688072 -0.222827   \n",
       "4225            0.905656    0.915659    0.806358     0.677366 -0.231493   \n",
       "4770            0.784314    0.794642    0.689588     0.667364 -0.147329   \n",
       "Total Bags      1.000000    0.994105    0.939750     0.794760 -0.217594   \n",
       "Small Bags      0.994105    1.000000    0.898993     0.796916 -0.218465   \n",
       "Large Bags      0.939750    0.898993    1.000000     0.702041 -0.173936   \n",
       "XLarge Bags     0.794760    0.796916    0.702041     1.000000 -0.120678   \n",
       "type           -0.217594   -0.218465   -0.173936    -0.120678  1.000000   \n",
       "year            0.071310    0.061902    0.074300     0.069213 -0.000032   \n",
       "region          0.175447    0.165930    0.196301     0.082393 -0.000280   \n",
       "Month          -0.013049   -0.012474   -0.015441    -0.007228  0.000017   \n",
       "Day            -0.008690   -0.007877   -0.011309    -0.003209 -0.000052   \n",
       "\n",
       "                  year    region     Month       Day  \n",
       "AveragePrice  0.093197 -0.011716  0.075134  0.061157  \n",
       "Total Volume  0.017193  0.174176 -0.015344 -0.013212  \n",
       "4046          0.003574  0.192410 -0.014655 -0.014658  \n",
       "4225         -0.009718  0.145953 -0.015767 -0.014521  \n",
       "4770         -0.036746  0.085718 -0.024095 -0.012765  \n",
       "Total Bags    0.071310  0.175447 -0.013049 -0.008690  \n",
       "Small Bags    0.061902  0.165930 -0.012474 -0.007877  \n",
       "Large Bags    0.074300  0.196301 -0.015441 -0.011309  \n",
       "XLarge Bags   0.069213  0.082393 -0.007228 -0.003209  \n",
       "type         -0.000032 -0.000280  0.000017 -0.000052  \n",
       "year          1.000000 -0.000055 -0.098812 -0.026504  \n",
       "region       -0.000055  1.000000  0.000030 -0.000089  \n",
       "Month        -0.098812  0.000030  1.000000 -0.046984  \n",
       "Day          -0.026504 -0.000089 -0.046984  1.000000  "
      ]
     },
     "execution_count": 335,
     "metadata": {},
     "output_type": "execute_result"
    }
   ],
   "source": [
    "df1.corr()"
   ]
  },
  {
   "cell_type": "code",
   "execution_count": 336,
   "metadata": {},
   "outputs": [
    {
     "data": {
      "image/png": "[encoded data removed]",
      "text/plain": [
       "<Figure size 1440x720 with 2 Axes>"
      ]
     },
     "metadata": {
      "needs_background": "light"
     },
     "output_type": "display_data"
    }
   ],
   "source": [
    "plt.figure(figsize=(20,10))\n",
    "sns.heatmap(df1.corr(),cmap=\"Reds\",annot=True)\n",
    "plt.show()"
   ]
  },
  {
   "cell_type": "code",
   "execution_count": 337,
   "metadata": {},
   "outputs": [
    {
     "data": {
      "text/plain": [
       "AveragePrice     0.580303\n",
       "Total Volume     9.007687\n",
       "4046             8.648526\n",
       "4225             8.942760\n",
       "4770            10.244212\n",
       "Total Bags       9.756195\n",
       "Small Bags       9.541906\n",
       "Large Bags       9.818731\n",
       "XLarge Bags     13.483327\n",
       "type             0.000329\n",
       "year             0.215339\n",
       "region           0.000030\n",
       "Month            0.047551\n",
       "Day             -0.001609\n",
       "dtype: float64"
      ]
     },
     "execution_count": 337,
     "metadata": {},
     "output_type": "execute_result"
    }
   ],
   "source": [
    "df1.skew()"
   ]
  },
  {
   "cell_type": "code",
   "execution_count": 338,
   "metadata": {},
   "outputs": [
    {
     "name": "stdout",
     "output_type": "stream",
     "text": [
      "(array([    0,     0,     0, ..., 18248, 18248, 18248], dtype=int64), array([ 0,  1,  2, ..., 11, 12, 13], dtype=int64))\n",
      "(18249, 14)\n"
     ]
    }
   ],
   "source": [
    "#Removing outliers\n",
    "from scipy.stats import zscore\n",
    "\n",
    "z_score=abs(zscore(df1))\n",
    "threshold = 3\n",
    "print(np.where(z_score<3))\n",
    "print(df1.shape)"
   ]
  },
  {
   "cell_type": "code",
   "execution_count": 339,
   "metadata": {},
   "outputs": [],
   "source": [
    "df1_new = df1[(z_score<3).all(axis = 1)]"
   ]
  },
  {
   "cell_type": "code",
   "execution_count": 340,
   "metadata": {},
   "outputs": [
    {
     "data": {
      "text/plain": [
       "(17665, 14)"
      ]
     },
     "execution_count": 340,
     "metadata": {},
     "output_type": "execute_result"
    }
   ],
   "source": [
    "df1_new.shape"
   ]
  },
  {
   "cell_type": "code",
   "execution_count": 341,
   "metadata": {},
   "outputs": [
    {
     "data": {
      "text/plain": [
       "AveragePrice    0.378326\n",
       "Total Volume    3.752409\n",
       "4046            4.860146\n",
       "4225            4.428792\n",
       "4770            4.843557\n",
       "Total Bags      4.048569\n",
       "Small Bags      4.198751\n",
       "Large Bags      4.879193\n",
       "XLarge Bags     6.279517\n",
       "type           -0.036126\n",
       "year            0.229600\n",
       "region          0.013290\n",
       "Month           0.046573\n",
       "Day            -0.005161\n",
       "dtype: float64"
      ]
     },
     "execution_count": 341,
     "metadata": {},
     "output_type": "execute_result"
    }
   ],
   "source": [
    "df1_new.skew()"
   ]
  },
  {
   "cell_type": "code",
   "execution_count": 342,
   "metadata": {},
   "outputs": [
    {
     "name": "stderr",
     "output_type": "stream",
     "text": [
      "C:\\ProgramData\\Anaconda3\\lib\\site-packages\\ipykernel_launcher.py:3: SettingWithCopyWarning: \n",
      "A value is trying to be set on a copy of a slice from a DataFrame.\n",
      "Try using .loc[row_indexer,col_indexer] = value instead\n",
      "\n",
      "See the caveats in the documentation: https://pandas.pydata.org/pandas-docs/stable/user_guide/indexing.html#returning-a-view-versus-a-copy\n",
      "  This is separate from the ipykernel package so we can avoid doing imports until\n"
     ]
    }
   ],
   "source": [
    "for i in df1_new.columns:\n",
    "    if df1_new.skew().loc[i]>0.59:\n",
    "        df1_new[i]=np.log1p(df1_new[i])"
   ]
  },
  {
   "cell_type": "code",
   "execution_count": 343,
   "metadata": {},
   "outputs": [
    {
     "data": {
      "text/plain": [
       "AveragePrice    0.378326\n",
       "Total Volume   -0.048916\n",
       "4046           -0.306632\n",
       "4225           -0.525728\n",
       "4770           -0.791937\n",
       "Total Bags     -0.324490\n",
       "Small Bags     -0.456738\n",
       "Large Bags     -0.719416\n",
       "XLarge Bags    -2.096522\n",
       "type           -0.036126\n",
       "year            0.229600\n",
       "region          0.013290\n",
       "Month           0.046573\n",
       "Day            -0.005161\n",
       "dtype: float64"
      ]
     },
     "execution_count": 343,
     "metadata": {},
     "output_type": "execute_result"
    }
   ],
   "source": [
    "df1_new.skew()"
   ]
  },
  {
   "cell_type": "code",
   "execution_count": 344,
   "metadata": {},
   "outputs": [
    {
     "data": {
      "image/png": "[encoded data removed]",
      "text/plain": [
       "<Figure size 1080x576 with 9 Axes>"
      ]
     },
     "metadata": {
      "needs_background": "light"
     },
     "output_type": "display_data"
    }
   ],
   "source": [
    "fig,ax=plt.subplots(3,3,figsize=(15,8))\n",
    "df1_new[\"AveragePrice\"].plot.hist(ax=ax[0,0])\n",
    "df1_new[\"Total Volume\"].plot.hist(ax=ax[0,1])\n",
    "df1_new[\"4046\"].plot.hist(ax=ax[0,2])\n",
    "df1_new[\"4225\"].plot.hist(ax=ax[1,0])\n",
    "df1_new[\"4770\"].plot.hist(ax=ax[1,1])\n",
    "df1_new[\"Total Bags\"].plot.hist(ax=ax[1,2])\n",
    "df1_new[\"Small Bags\"].plot.hist(ax=ax[2,0])\n",
    "df1_new[\"Large Bags\"].plot.hist(ax=ax[2,1])\n",
    "df1_new[\"XLarge Bags\"].plot.hist(ax=ax[2,2])\n",
    "plt.tight_layout()\n",
    "plt.show()"
   ]
  },
  {
   "cell_type": "code",
   "execution_count": 345,
   "metadata": {},
   "outputs": [
    {
     "name": "stdout",
     "output_type": "stream",
     "text": [
      "AveragePrice     0.550000\n",
      "Total Volume     3.613823\n",
      "4046             4.744896\n",
      "4225             3.799060\n",
      "4770             4.173579\n",
      "Total Bags       3.020614\n",
      "Small Bags       3.278030\n",
      "Large Bags       4.117479\n",
      "XLarge Bags      0.000000\n",
      "type             1.000000\n",
      "year             2.000000\n",
      "region          26.000000\n",
      "Month            7.000000\n",
      "Day             16.000000\n",
      "dtype: float64\n"
     ]
    }
   ],
   "source": [
    "#Still outliers are remaining lets try IQR Method\n",
    "Q1 = df1_new.quantile(0.25)\n",
    "Q3 = df1_new.quantile(0.75)\n",
    "IQR = Q3 - Q1\n",
    "print(IQR)"
   ]
  },
  {
   "cell_type": "code",
   "execution_count": 346,
   "metadata": {},
   "outputs": [
    {
     "data": {
      "text/plain": [
       "<matplotlib.axes._subplots.AxesSubplot at 0x1b4223cef88>"
      ]
     },
     "execution_count": 346,
     "metadata": {},
     "output_type": "execute_result"
    },
    {
     "data": {
      "image/png": "[encoded data removed]",
      "text/plain": [
       "<Figure size 432x288 with 1 Axes>"
      ]
     },
     "metadata": {
      "needs_background": "light"
     },
     "output_type": "display_data"
    }
   ],
   "source": [
    "sns.boxplot(x=df1_new[\"Total Bags\"])"
   ]
  },
  {
   "cell_type": "code",
   "execution_count": 347,
   "metadata": {},
   "outputs": [
    {
     "name": "stdout",
     "output_type": "stream",
     "text": [
      "3.986642096306044 16.069098167444906\n"
     ]
    }
   ],
   "source": [
    "low_limit=df1_new[\"Total Bags\"].quantile(0.25)-1.5*(df1_new[\"Total Bags\"].quantile(0.75)-df1_new[\"Total Bags\"].quantile(0.25))\n",
    "up_limit=df1_new[\"Total Bags\"].quantile(0.75)+1.5*(df1_new[\"Total Bags\"].quantile(0.75)-df1_new[\"Total Bags\"].quantile(0.25))\n",
    "print(low_limit,up_limit)"
   ]
  },
  {
   "cell_type": "code",
   "execution_count": 349,
   "metadata": {},
   "outputs": [],
   "source": [
    "df1_new.loc[df1_new[\"Total Bags\"]<low_limit,\"Total Bags\"]=np.mean(df1_new['Total Bags'])"
   ]
  },
  {
   "cell_type": "code",
   "execution_count": 350,
   "metadata": {},
   "outputs": [
    {
     "data": {
      "text/plain": [
       "<matplotlib.axes._subplots.AxesSubplot at 0x1b415161748>"
      ]
     },
     "execution_count": 350,
     "metadata": {},
     "output_type": "execute_result"
    },
    {
     "data": {
      "image/png": "[encoded data removed]",
      "text/plain": [
       "<Figure size 432x288 with 1 Axes>"
      ]
     },
     "metadata": {
      "needs_background": "light"
     },
     "output_type": "display_data"
    }
   ],
   "source": [
    "sns.boxplot(x=df1_new[\"Total Bags\"])"
   ]
  },
  {
   "cell_type": "code",
   "execution_count": 351,
   "metadata": {},
   "outputs": [
    {
     "name": "stdout",
     "output_type": "stream",
     "text": [
      "2.295003366687565 17.49124235068112\n"
     ]
    }
   ],
   "source": [
    "low_limit1=df1_new[\"4225\"].quantile(0.25)-1.5*(df1_new[\"4225\"].quantile(0.75)-df1_new[\"4225\"].quantile(0.25))\n",
    "up_limit1=df1_new[\"4225\"].quantile(0.75)+1.5*(df1_new[\"4225\"].quantile(0.75)-df1_new[\"4225\"].quantile(0.25))\n",
    "print(low_limit1,up_limit1)"
   ]
  },
  {
   "cell_type": "code",
   "execution_count": 353,
   "metadata": {},
   "outputs": [
    {
     "name": "stderr",
     "output_type": "stream",
     "text": [
      "C:\\ProgramData\\Anaconda3\\lib\\site-packages\\pandas\\core\\indexing.py:965: SettingWithCopyWarning: \n",
      "A value is trying to be set on a copy of a slice from a DataFrame.\n",
      "Try using .loc[row_indexer,col_indexer] = value instead\n",
      "\n",
      "See the caveats in the documentation: https://pandas.pydata.org/pandas-docs/stable/user_guide/indexing.html#returning-a-view-versus-a-copy\n",
      "  self.obj[item] = s\n"
     ]
    },
    {
     "data": {
      "text/plain": [
       "<matplotlib.axes._subplots.AxesSubplot at 0x1b41f28e548>"
      ]
     },
     "execution_count": 353,
     "metadata": {},
     "output_type": "execute_result"
    },
    {
     "data": {
      "image/png": "[encoded data removed]",
      "text/plain": [
       "<Figure size 432x288 with 1 Axes>"
      ]
     },
     "metadata": {
      "needs_background": "light"
     },
     "output_type": "display_data"
    }
   ],
   "source": [
    "df1_new.loc[df1_new[\"4225\"]<low_limit1,\"4225\"]=np.mean(df1_new['4225'])\n",
    "sns.boxplot(x=df1_new[\"4225\"])"
   ]
  },
  {
   "cell_type": "code",
   "execution_count": 354,
   "metadata": {},
   "outputs": [
    {
     "name": "stdout",
     "output_type": "stream",
     "text": [
      "3.986642096306044 16.069098167444906\n"
     ]
    },
    {
     "name": "stderr",
     "output_type": "stream",
     "text": [
      "C:\\ProgramData\\Anaconda3\\lib\\site-packages\\pandas\\core\\indexing.py:965: SettingWithCopyWarning: \n",
      "A value is trying to be set on a copy of a slice from a DataFrame.\n",
      "Try using .loc[row_indexer,col_indexer] = value instead\n",
      "\n",
      "See the caveats in the documentation: https://pandas.pydata.org/pandas-docs/stable/user_guide/indexing.html#returning-a-view-versus-a-copy\n",
      "  self.obj[item] = s\n"
     ]
    },
    {
     "data": {
      "text/plain": [
       "<matplotlib.axes._subplots.AxesSubplot at 0x1b423af1d08>"
      ]
     },
     "execution_count": 354,
     "metadata": {},
     "output_type": "execute_result"
    },
    {
     "data": {
      "image/png": "[encoded data removed]",
      "text/plain": [
       "<Figure size 432x288 with 1 Axes>"
      ]
     },
     "metadata": {
      "needs_background": "light"
     },
     "output_type": "display_data"
    }
   ],
   "source": [
    "low_limit2=df1_new[\"Small Bags\"].quantile(0.25)-1.5*(df1_new[\"Small Bags\"].quantile(0.75)-df1_new[\"Small Bags\"].quantile(0.25))\n",
    "up_limit2=df1_new[\"Small Bags\"].quantile(0.75)+1.5*(df1_new[\"Small Bags\"].quantile(0.75)-df1_new[\"Small Bags\"].quantile(0.25))\n",
    "print(low_limit,up_limit)\n",
    "df1_new.loc[df1_new[\"Small Bags\"]<low_limit2,\"Small Bags\"]=np.mean(df1_new['Small Bags'])\n",
    "sns.boxplot(x=df1_new[\"Small Bags\"])"
   ]
  },
  {
   "cell_type": "code",
   "execution_count": 355,
   "metadata": {},
   "outputs": [
    {
     "name": "stdout",
     "output_type": "stream",
     "text": [
      "3.986642096306044 16.069098167444906\n"
     ]
    },
    {
     "name": "stderr",
     "output_type": "stream",
     "text": [
      "C:\\ProgramData\\Anaconda3\\lib\\site-packages\\pandas\\core\\indexing.py:965: SettingWithCopyWarning: \n",
      "A value is trying to be set on a copy of a slice from a DataFrame.\n",
      "Try using .loc[row_indexer,col_indexer] = value instead\n",
      "\n",
      "See the caveats in the documentation: https://pandas.pydata.org/pandas-docs/stable/user_guide/indexing.html#returning-a-view-versus-a-copy\n",
      "  self.obj[item] = s\n"
     ]
    },
    {
     "data": {
      "text/plain": [
       "<matplotlib.axes._subplots.AxesSubplot at 0x1b421a46b08>"
      ]
     },
     "execution_count": 355,
     "metadata": {},
     "output_type": "execute_result"
    },
    {
     "data": {
      "image/png": "[encoded data removed]",
      "text/plain": [
       "<Figure size 432x288 with 1 Axes>"
      ]
     },
     "metadata": {
      "needs_background": "light"
     },
     "output_type": "display_data"
    }
   ],
   "source": [
    "low_limit3=df1_new[\"XLarge Bags\"].quantile(0.25)-1.5*(df1_new[\"XLarge Bags\"].quantile(0.75)-df1_new[\"XLarge Bags\"].quantile(0.25))\n",
    "up_limit3=df1_new[\"XLarge Bags\"].quantile(0.75)+1.5*(df1_new[\"XLarge Bags\"].quantile(0.75)-df1_new[\"XLarge Bags\"].quantile(0.25))\n",
    "print(low_limit,up_limit)\n",
    "df1_new.loc[df1_new[\"XLarge Bags\"]<low_limit3,\"XLarge Bags\"]=np.mean(df1_new['XLarge Bags'])\n",
    "sns.boxplot(x=df1_new[\"XLarge Bags\"])"
   ]
  },
  {
   "cell_type": "code",
   "execution_count": 356,
   "metadata": {},
   "outputs": [
    {
     "data": {
      "text/plain": [
       "AveragePrice    0.378326\n",
       "Total Volume   -0.048916\n",
       "4046           -0.306632\n",
       "4225           -0.450272\n",
       "4770           -0.791937\n",
       "Total Bags     -0.258510\n",
       "Small Bags     -0.362469\n",
       "Large Bags     -0.719416\n",
       "XLarge Bags     2.801460\n",
       "type           -0.036126\n",
       "year            0.229600\n",
       "region          0.013290\n",
       "Month           0.046573\n",
       "Day            -0.005161\n",
       "dtype: float64"
      ]
     },
     "execution_count": 356,
     "metadata": {},
     "output_type": "execute_result"
    }
   ],
   "source": [
    "\n",
    "df1_new.skew()"
   ]
  },
  {
   "cell_type": "markdown",
   "metadata": {},
   "source": [
    "#Summary:\n",
    "1)In begining we checkked the size , top and bottom of datset\n",
    "\n",
    "2)Then we checked for any null values if present that is blank values or NAN\n",
    "\n",
    "3)Then we performed descriptive analysis and got to know that data is having no null values, but contains outliers , and some columns are skewwed. Also some columns contain 0 as a value which we treated for better EDA\n",
    "\n",
    "4) Through univariate analyssis we visualised the outliers and distribution of the data\n",
    "\n",
    "5) We also saw Avg price, volume of organic and conventional types of avocado in given years\n"
   ]
  },
  {
   "cell_type": "markdown",
   "metadata": {},
   "source": [
    "# Model building"
   ]
  },
  {
   "cell_type": "code",
   "execution_count": 357,
   "metadata": {},
   "outputs": [
    {
     "data": {
      "text/plain": [
       "Index(['AveragePrice', 'Total Volume', '4046', '4225', '4770', 'Total Bags',\n",
       "       'Small Bags', 'Large Bags', 'XLarge Bags', 'type', 'year', 'region',\n",
       "       'Month', 'Day'],\n",
       "      dtype='object')"
      ]
     },
     "execution_count": 357,
     "metadata": {},
     "output_type": "execute_result"
    }
   ],
   "source": [
    "df1_new.columns"
   ]
  },
  {
   "cell_type": "code",
   "execution_count": 359,
   "metadata": {},
   "outputs": [
    {
     "name": "stdout",
     "output_type": "stream",
     "text": [
      "(17665, 12)\n",
      "(17665, 1)\n"
     ]
    }
   ],
   "source": [
    "x = df1_new.drop(columns=['AveragePrice',\"Day\"])\n",
    "y = df1_new[[\"AveragePrice\"]]\n",
    "print(x.shape)\n",
    "print(y.shape)"
   ]
  },
  {
   "cell_type": "code",
   "execution_count": 362,
   "metadata": {},
   "outputs": [
    {
     "data": {
      "text/plain": [
       "array([[-0.06338205, -0.67083943,  0.41594222, ..., -1.21031372,\n",
       "        -1.69532788,  1.59306193],\n",
       "       [-0.13564905, -0.8090018 ,  0.34044151, ..., -1.21031372,\n",
       "        -1.69532788,  1.59306193],\n",
       "       [ 0.21653592, -0.75623674,  0.68006712, ..., -1.21031372,\n",
       "        -1.69532788,  1.59306193],\n",
       "       ...,\n",
       "       [-0.77021563, -0.62602828, -0.76150211, ...,  1.98028349,\n",
       "         1.74713142, -1.52447499],\n",
       "       [-0.69538397, -0.54629366, -0.68744117, ...,  1.98028349,\n",
       "         1.74713142, -1.52447499],\n",
       "       [-0.66038447, -0.34086061, -0.77676792, ...,  1.98028349,\n",
       "         1.74713142,  0.17599969]])"
      ]
     },
     "execution_count": 362,
     "metadata": {},
     "output_type": "execute_result"
    }
   ],
   "source": [
    "from sklearn.preprocessing import StandardScaler\n",
    "sc = StandardScaler()\n",
    "sc.fit_transform(x)\n"
   ]
  },
  {
   "cell_type": "code",
   "execution_count": 368,
   "metadata": {},
   "outputs": [
    {
     "name": "stdout",
     "output_type": "stream",
     "text": [
      "0.5214901196976229\n"
     ]
    }
   ],
   "source": [
    "from sklearn.model_selection import train_test_split\n",
    "x_train,x_test,y_train,y_test=train_test_split(x,y,test_size=0.2,random_state=42)\n",
    "from sklearn.linear_model import LinearRegression\n",
    "lr=LinearRegression()\n",
    "lr.fit(x_train,y_train)\n",
    "y_pred=lr.predict(x_test)\n",
    "r2_scr=r2_score(y_test,y_pred)\n",
    "print(r2_scr)"
   ]
  },
  {
   "cell_type": "code",
   "execution_count": 369,
   "metadata": {},
   "outputs": [
    {
     "name": "stdout",
     "output_type": "stream",
     "text": [
      "MAE: 0.20821050318229012\n",
      "MSE: 0.07072738972006724\n",
      "RMSE: 0.2659462158408486\n"
     ]
    }
   ],
   "source": [
    "from sklearn import metrics\n",
    "print('MAE:', metrics.mean_absolute_error(y_test, pred))\n",
    "print('MSE:', metrics.mean_squared_error(y_test, pred))\n",
    "print('RMSE:', np.sqrt(metrics.mean_squared_error(y_test, pred)))"
   ]
  },
  {
   "cell_type": "code",
   "execution_count": 370,
   "metadata": {},
   "outputs": [
    {
     "data": {
      "text/plain": [
       "<matplotlib.collections.PathCollection at 0x1b421dbb708>"
      ]
     },
     "execution_count": 370,
     "metadata": {},
     "output_type": "execute_result"
    },
    {
     "data": {
      "image/png": "[encoded data removed]",
      "text/plain": [
       "<Figure size 432x288 with 1 Axes>"
      ]
     },
     "metadata": {
      "needs_background": "light"
     },
     "output_type": "display_data"
    }
   ],
   "source": [
    "plt.scatter(x=y_test,y=pred)"
   ]
  },
  {
   "cell_type": "code",
   "execution_count": 372,
   "metadata": {},
   "outputs": [],
   "source": [
    "from sklearn.tree import DecisionTreeRegressor\n",
    "dtr=DecisionTreeRegressor()\n",
    "dtr.fit(x_train,y_train)\n",
    "pred=dtr.predict(x_test)"
   ]
  },
  {
   "cell_type": "code",
   "execution_count": 373,
   "metadata": {},
   "outputs": [
    {
     "data": {
      "text/plain": [
       "Text(0, 0.5, 'Predicted Y')"
      ]
     },
     "execution_count": 373,
     "metadata": {},
     "output_type": "execute_result"
    },
    {
     "data": {
      "image/png": "[encoded data removed]",
      "text/plain": [
       "<Figure size 432x288 with 1 Axes>"
      ]
     },
     "metadata": {
      "needs_background": "light"
     },
     "output_type": "display_data"
    }
   ],
   "source": [
    "plt.scatter(x=y_test,y=pred)\n",
    "plt.xlabel('Y Test')\n",
    "plt.ylabel('Predicted Y')"
   ]
  },
  {
   "cell_type": "code",
   "execution_count": 374,
   "metadata": {},
   "outputs": [
    {
     "name": "stdout",
     "output_type": "stream",
     "text": [
      "MAE: 0.14844324936314746\n",
      "MSE: 0.04823574865553354\n",
      "RMSE: 0.21962638424272604\n"
     ]
    }
   ],
   "source": [
    "print('MAE:', metrics.mean_absolute_error(y_test, pred))\n",
    "print('MSE:', metrics.mean_squared_error(y_test, pred))\n",
    "print('RMSE:', np.sqrt(metrics.mean_squared_error(y_test, pred)))"
   ]
  },
  {
   "cell_type": "code",
   "execution_count": 407,
   "metadata": {},
   "outputs": [
    {
     "name": "stderr",
     "output_type": "stream",
     "text": [
      "C:\\ProgramData\\Anaconda3\\lib\\site-packages\\ipykernel_launcher.py:3: DataConversionWarning: A column-vector y was passed when a 1d array was expected. Please change the shape of y to (n_samples,), for example using ravel().\n",
      "  This is separate from the ipykernel package so we can avoid doing imports until\n"
     ]
    }
   ],
   "source": [
    "from sklearn.ensemble import RandomForestRegressor\n",
    "rdr = RandomForestRegressor()\n",
    "rdr.fit(x_train,y_train)\n",
    "pred=rdr.predict(x_test)"
   ]
  },
  {
   "cell_type": "code",
   "execution_count": 410,
   "metadata": {},
   "outputs": [
    {
     "name": "stdout",
     "output_type": "stream",
     "text": [
      "MAE: 0.09611519954712706\n",
      "MSE: 0.021499879705632604\n",
      "RMSE: 0.14662837278518986\n",
      "R2 Score : 85.45414314712252\n"
     ]
    }
   ],
   "source": [
    "\n",
    "print('MAE:', metrics.mean_absolute_error(y_test, pred))\n",
    "print('MSE:', metrics.mean_squared_error(y_test, pred))\n",
    "print('RMSE:', np.sqrt(metrics.mean_squared_error(y_test, pred)))\n",
    "r2_sc = r2_score(y_test,pred)\n",
    "print(\"R2 Score :\",r2_sc*100)\n"
   ]
  },
  {
   "cell_type": "code",
   "execution_count": 411,
   "metadata": {},
   "outputs": [
    {
     "data": {
      "text/plain": [
       "Text(0, 0.5, 'pred')"
      ]
     },
     "execution_count": 411,
     "metadata": {},
     "output_type": "execute_result"
    },
    {
     "data": {
      "image/png": "[encoded data removed]",
      "text/plain": [
       "<Figure size 432x288 with 1 Axes>"
      ]
     },
     "metadata": {
      "needs_background": "light"
     },
     "output_type": "display_data"
    }
   ],
   "source": [
    "plt.scatter(x=y_test,y=pred)\n",
    "plt.xlabel('y_test')\n",
    "plt.ylabel('pred')"
   ]
  },
  {
   "cell_type": "markdown",
   "metadata": {},
   "source": [
    "So Basis above depiction we have got very low RMSE and good R2 score in Random forest model. hence finalising the Random forest model\n"
   ]
  },
  {
   "cell_type": "code",
   "execution_count": 416,
   "metadata": {},
   "outputs": [
    {
     "name": "stdout",
     "output_type": "stream",
     "text": [
      "(17665, 12)\n",
      "(17665, 1)\n"
     ]
    }
   ],
   "source": [
    "# Now preditcing region so moving to classification algorithms\n",
    "x1 = df1_new.drop(columns=['region','Day'])\n",
    "y1 = df1_new[[\"region\"]]\n",
    "print(x1.shape)\n",
    "print(y1.shape)"
   ]
  },
  {
   "cell_type": "code",
   "execution_count": 417,
   "metadata": {},
   "outputs": [
    {
     "data": {
      "text/plain": [
       "array([[-0.19470912, -0.06338205, -0.67083943, ..., -1.01822434,\n",
       "        -1.21031372,  1.59306193],\n",
       "       [-0.14286397, -0.13564905, -0.8090018 , ..., -1.01822434,\n",
       "        -1.21031372,  1.59306193],\n",
       "       [-1.23161201,  0.21653592, -0.75623674, ..., -1.01822434,\n",
       "        -1.21031372,  1.59306193],\n",
       "       ...,\n",
       "       [ 1.2051098 , -0.77021563, -0.62602828, ...,  0.98210184,\n",
       "         1.98028349, -1.52447499],\n",
       "       [ 1.36064523, -0.69538397, -0.54629366, ...,  0.98210184,\n",
       "         1.98028349, -1.52447499],\n",
       "       [ 0.55704549, -0.66038447, -0.34086061, ...,  0.98210184,\n",
       "         1.98028349,  0.17599969]])"
      ]
     },
     "execution_count": 417,
     "metadata": {},
     "output_type": "execute_result"
    }
   ],
   "source": [
    "sc = StandardScaler()\n",
    "sc.fit_transform(x1)\n"
   ]
  },
  {
   "cell_type": "code",
   "execution_count": 424,
   "metadata": {},
   "outputs": [],
   "source": [
    "from sklearn.linear_model import LogisticRegression\n",
    "from sklearn.metrics import accuracy_score,mean_squared_error,mean_absolute_error,confusion_matrix,classification_report,r2_score\n",
    "from sklearn.model_selection import train_test_split,cross_val_score\n",
    "import warnings\n",
    "warnings.filterwarnings(\"ignore\")"
   ]
  },
  {
   "cell_type": "code",
   "execution_count": 425,
   "metadata": {},
   "outputs": [
    {
     "data": {
      "text/plain": [
       "LogisticRegression(C=1.0, class_weight=None, dual=False, fit_intercept=True,\n",
       "                   intercept_scaling=1, l1_ratio=None, max_iter=100,\n",
       "                   multi_class='auto', n_jobs=None, penalty='l2',\n",
       "                   random_state=None, solver='lbfgs', tol=0.0001, verbose=0,\n",
       "                   warm_start=False)"
      ]
     },
     "execution_count": 425,
     "metadata": {},
     "output_type": "execute_result"
    }
   ],
   "source": [
    "x1_train,x1_test,y1_train,y1_test=train_test_split(x1,y1,random_state=57,test_size=0.20)\n",
    "model=LogisticRegression()\n",
    "model.fit(x1_train,y1_train)"
   ]
  },
  {
   "cell_type": "code",
   "execution_count": 427,
   "metadata": {},
   "outputs": [
    {
     "name": "stdout",
     "output_type": "stream",
     "text": [
      "Accuracy_score: 0.14095669402773847\n"
     ]
    }
   ],
   "source": [
    "y1_pred=model.predict(x1_test)\n",
    "print(\"Accuracy_score:\",accuracy_score(y1_test,y1_pred))"
   ]
  },
  {
   "cell_type": "code",
   "execution_count": 430,
   "metadata": {},
   "outputs": [
    {
     "name": "stdout",
     "output_type": "stream",
     "text": [
      "accuracy score correspond to random state  40 is 0.7902632323804133\n",
      "accuracy score correspond to random state  40 is 0.729408434757996\n",
      "accuracy score correspond to random state  41 is 0.780922728559298\n",
      "accuracy score correspond to random state  41 is 0.72459666006227\n",
      "accuracy score correspond to random state  42 is 0.7877158222473818\n",
      "accuracy score correspond to random state  42 is 0.7322388904613643\n",
      "accuracy score correspond to random state  43 is 0.7704500424568356\n",
      "accuracy score correspond to random state  43 is 0.7356354373054061\n",
      "accuracy score correspond to random state  44 is 0.7820549108406454\n",
      "accuracy score correspond to random state  44 is 0.7313897537503538\n",
      "accuracy score correspond to random state  45 is 0.7829040475516558\n",
      "accuracy score correspond to random state  45 is 0.7192187942258703\n",
      "accuracy score correspond to random state  46 is 0.79054627795075\n",
      "accuracy score correspond to random state  46 is 0.731106708180017\n",
      "accuracy score correspond to random state  47 is 0.7797905462779507\n",
      "accuracy score correspond to random state  47 is 0.7362015284460798\n",
      "accuracy score correspond to random state  48 is 0.7860175488253609\n",
      "accuracy score correspond to random state  48 is 0.7282762524766487\n",
      "accuracy score correspond to random state  49 is 0.7879988678177187\n",
      "accuracy score correspond to random state  49 is 0.7356354373054061\n",
      "accuracy score correspond to random state  50 is 0.7758279082932352\n",
      "accuracy score correspond to random state  50 is 0.7438437588451741\n",
      "accuracy score correspond to random state  51 is 0.7916784602320973\n",
      "accuracy score correspond to random state  51 is 0.7333710727427116\n",
      "accuracy score correspond to random state  52 is 0.7741296348712142\n",
      "accuracy score correspond to random state  52 is 0.7336541183130484\n",
      "accuracy score correspond to random state  53 is 0.7783753184262666\n",
      "accuracy score correspond to random state  53 is 0.7237475233512596\n",
      "accuracy score correspond to random state  54 is 0.7797905462779507\n",
      "accuracy score correspond to random state  54 is 0.7325219360317011\n",
      "accuracy score correspond to random state  55 is 0.7758279082932352\n",
      "accuracy score correspond to random state  55 is 0.7395980752901217\n",
      "accuracy score correspond to random state  56 is 0.7871497311067082\n",
      "accuracy score correspond to random state  56 is 0.7370506651570903\n",
      "accuracy score correspond to random state  57 is 0.7834701386923295\n",
      "accuracy score correspond to random state  57 is 0.723181432210586\n",
      "accuracy score correspond to random state  58 is 0.7820549108406454\n",
      "accuracy score correspond to random state  58 is 0.7274271157656382\n",
      "accuracy score correspond to random state  59 is 0.7820549108406454\n",
      "accuracy score correspond to random state  59 is 0.7328049816020379\n",
      "accuracy score correspond to random state  60 is 0.7837531842626663\n",
      "accuracy score correspond to random state  60 is 0.7370506651570903\n",
      "accuracy score correspond to random state  61 is 0.7851684121143504\n",
      "accuracy score correspond to random state  61 is 0.7356354373054061\n",
      "accuracy score correspond to random state  62 is 0.7820549108406454\n",
      "accuracy score correspond to random state  62 is 0.7393150297197849\n",
      "accuracy score correspond to random state  63 is 0.7837531842626663\n",
      "accuracy score correspond to random state  63 is 0.723181432210586\n",
      "accuracy score correspond to random state  64 is 0.7800735918482876\n",
      "accuracy score correspond to random state  64 is 0.7367676195867535\n",
      "accuracy score correspond to random state  65 is 0.7724313614491933\n",
      "accuracy score correspond to random state  65 is 0.7305406170393434\n",
      "accuracy score correspond to random state  66 is 0.7795075007076139\n",
      "accuracy score correspond to random state  66 is 0.7339371638833853\n",
      "accuracy score correspond to random state  67 is 0.7865836399660345\n",
      "accuracy score correspond to random state  67 is 0.7291253891876592\n",
      "accuracy score correspond to random state  68 is 0.7735635437305406\n",
      "accuracy score correspond to random state  68 is 0.7350693461647325\n",
      "accuracy score correspond to random state  69 is 0.774695726011888\n",
      "accuracy score correspond to random state  69 is 0.7322388904613643\n",
      "accuracy score correspond to random state  70 is 0.7820549108406454\n",
      "accuracy score correspond to random state  70 is 0.726294933484291\n",
      "accuracy score correspond to random state  71 is 0.7896971412397396\n",
      "accuracy score correspond to random state  71 is 0.7353523917350694\n",
      "accuracy score correspond to random state  72 is 0.7817718652703085\n",
      "accuracy score correspond to random state  72 is 0.7268610246249646\n",
      "accuracy score correspond to random state  73 is 0.7732804981602038\n",
      "accuracy score correspond to random state  73 is 0.7271440701953015\n",
      "accuracy score correspond to random state  74 is 0.7712991791678461\n",
      "accuracy score correspond to random state  74 is 0.7302575714690065\n",
      "accuracy score correspond to random state  75 is 0.7786583639966035\n",
      "accuracy score correspond to random state  75 is 0.7277101613359751\n",
      "accuracy score correspond to random state  76 is 0.7840362298330031\n",
      "accuracy score correspond to random state  76 is 0.7364845740164166\n",
      "accuracy score correspond to random state  77 is 0.7896971412397396\n",
      "accuracy score correspond to random state  77 is 0.7322388904613643\n",
      "accuracy score correspond to random state  78 is 0.7693178601754882\n",
      "accuracy score correspond to random state  78 is 0.7291253891876592\n",
      "accuracy score correspond to random state  79 is 0.7854514576846873\n",
      "accuracy score correspond to random state  79 is 0.7395980752901217\n",
      "accuracy score correspond to random state  80 is 0.7984715539201811\n",
      "accuracy score correspond to random state  80 is 0.7350693461647325\n",
      "accuracy score correspond to random state  81 is 0.7766770450042457\n",
      "accuracy score correspond to random state  81 is 0.7265779790546278\n",
      "accuracy score correspond to random state  82 is 0.7795075007076139\n",
      "accuracy score correspond to random state  82 is 0.7328049816020379\n",
      "accuracy score correspond to random state  83 is 0.7913954146617606\n",
      "accuracy score correspond to random state  83 is 0.7398811208604585\n",
      "accuracy score correspond to random state  84 is 0.7820549108406454\n",
      "accuracy score correspond to random state  84 is 0.7512029436739315\n",
      "accuracy score correspond to random state  85 is 0.7868666855363714\n",
      "accuracy score correspond to random state  85 is 0.7243136144919332\n",
      "accuracy score correspond to random state  86 is 0.7840362298330031\n",
      "accuracy score correspond to random state  86 is 0.7395980752901217\n",
      "accuracy score correspond to random state  87 is 0.7797905462779507\n",
      "accuracy score correspond to random state  87 is 0.7441268044155109\n",
      "accuracy score correspond to random state  88 is 0.7795075007076139\n",
      "accuracy score correspond to random state  88 is 0.7319558448910275\n",
      "accuracy score correspond to random state  89 is 0.7879988678177187\n",
      "accuracy score correspond to random state  89 is 0.7376167562977639\n",
      "\n",
      "\n",
      "\n",
      "\n",
      "max accuracy score correspond to random state  80 is 0.7984715539201811 and model is DecisionTreeClassifier(ccp_alpha=0.0, class_weight=None, criterion='gini',\n",
      "                       max_depth=None, max_features=None, max_leaf_nodes=None,\n",
      "                       min_impurity_decrease=0.0, min_impurity_split=None,\n",
      "                       min_samples_leaf=1, min_samples_split=2,\n",
      "                       min_weight_fraction_leaf=0.0, presort='deprecated',\n",
      "                       random_state=None, splitter='best')\n"
     ]
    }
   ],
   "source": [
    "from sklearn.metrics import accuracy_score,classification_report,confusion_matrix,roc_auc_score,roc_curve\n",
    "from sklearn.linear_model import LogisticRegression\n",
    "from sklearn.naive_bayes import MultinomialNB\n",
    "from sklearn.neighbors import KNeighborsClassifier\n",
    "from sklearn.svm import SVC\n",
    "from sklearn.tree import DecisionTreeClassifier\n",
    "from sklearn.ensemble import AdaBoostClassifier,GradientBoostingClassifier\n",
    "model = [DecisionTreeClassifier(),KNeighborsClassifier()]\n",
    "max_accuracy_score = 0\n",
    "for r_state in range(40,90):\n",
    "    x1_train,x1_test,y1_train,y1_test=train_test_split(x1,y1,random_state=r_state,test_size=0.20)\n",
    "    for i in model:\n",
    "        i.fit(x1_train,y1_train)\n",
    "        y1_pred = i.predict(x1_test)\n",
    "        ac_score = accuracy_score(y1_test,y1_pred)\n",
    "        print(\"accuracy score correspond to random state \" ,r_state ,\"is\", ac_score)\n",
    "        if ac_score> max_accuracy_score:\n",
    "            max_accuracy_score=ac_score\n",
    "            final_state = r_state\n",
    "            final_model = i\n",
    "            \n",
    "print()\n",
    "print()\n",
    "print()\n",
    "print()\n",
    "\n",
    "print(\"max accuracy score correspond to random state \" ,final_state , \"is\" , max_accuracy_score ,\"and model is\",final_model)"
   ]
  },
  {
   "cell_type": "code",
   "execution_count": 431,
   "metadata": {},
   "outputs": [
    {
     "data": {
      "text/plain": [
       "{'n_neighbors': 1}"
      ]
     },
     "execution_count": 431,
     "metadata": {},
     "output_type": "execute_result"
    }
   ],
   "source": [
    "KNC = KNeighborsClassifier()\n",
    "parameters={'n_neighbors' : range(1,30)}\n",
    "gridsearch=GridSearchCV(KNC,parameters)\n",
    "gridsearch.fit(x1_train,y1_train)\n",
    "gridsearch.best_params_"
   ]
  },
  {
   "cell_type": "code",
   "execution_count": 433,
   "metadata": {},
   "outputs": [
    {
     "name": "stdout",
     "output_type": "stream",
     "text": [
      "Accuracy Score : 77.72431361449193\n"
     ]
    }
   ],
   "source": [
    "KNC = KNeighborsClassifier(n_neighbors=1)\n",
    "KNC.fit(x1_train,y1_train)\n",
    "predc = KNC.predict(x1_test)\n",
    "acu_score = accuracy_score(y1_test,predc)\n",
    "print(\"Accuracy Score :\",acu_score*100)"
   ]
  },
  {
   "cell_type": "code",
   "execution_count": 434,
   "metadata": {},
   "outputs": [
    {
     "name": "stdout",
     "output_type": "stream",
     "text": [
      "Cross_val_score :  73.7835772984078\n",
      "Mean Score      :  73.7835772984078\n",
      "STD score       :  0.0\n"
     ]
    }
   ],
   "source": [
    "score = cross_val_score(KNC,x1,y1,cv = 100,scoring='accuracy').mean()\n",
    "print('Cross_val_score : ', score*100)\n",
    "print('Mean Score      : ' , score.mean()*100)\n",
    "print('STD score       : ' , score.std())"
   ]
  },
  {
   "cell_type": "code",
   "execution_count": 436,
   "metadata": {},
   "outputs": [
    {
     "data": {
      "text/plain": [
       "['Project_8.obj']"
      ]
     },
     "execution_count": 436,
     "metadata": {},
     "output_type": "execute_result"
    }
   ],
   "source": [
    "joblib.dump(model, 'Project_8.obj')"
   ]
  },
  {
   "cell_type": "code",
   "execution_count": null,
   "metadata": {},
   "outputs": [],
   "source": []
  }
 ],
 "metadata": {
  "kernelspec": {
   "display_name": "Python 3",
   "language": "python",
   "name": "python3"
  },
  "language_info": {
   "codemirror_mode": {
    "name": "ipython",
    "version": 3
   },
   "file_extension": ".py",
   "mimetype": "text/x-python",
   "name": "python",
   "nbconvert_exporter": "python",
   "pygments_lexer": "ipython3",
   "version": "3.7.6"
  }
 },
 "nbformat": 4,
 "nbformat_minor": 4
}
